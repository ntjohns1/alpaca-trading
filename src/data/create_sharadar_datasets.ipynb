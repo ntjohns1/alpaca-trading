{
 "cells": [
  {
   "cell_type": "markdown",
   "metadata": {},
   "source": []
  },
  {
   "cell_type": "code",
   "execution_count": 1,
   "metadata": {},
   "outputs": [],
   "source": [
    "import warnings\n",
    "warnings.filterwarnings('ignore')\n",
    "\n",
    "from pathlib import Path\n",
    "import requests\n",
    "from io import BytesIO\n",
    "import os\n",
    "from dotenv import load_dotenv\n",
    "from zipfile import ZipFile, BadZipFile\n",
    "import json\n",
    "import datetime\n",
    "from statsmodels.regression.rolling import RollingOLS\n",
    "import statsmodels.api as sm\n",
    "\n",
    "import numpy as np\n",
    "import pandas as pd\n",
    "import pandas_datareader.data as web\n",
    "from sklearn.datasets import fetch_openml\n",
    "import seaborn as sns\n",
    "\n",
    "pd.set_option('display.expand_frame_repr', False)"
   ]
  },
  {
   "cell_type": "code",
   "execution_count": 3,
   "metadata": {},
   "outputs": [
    {
     "name": "stdout",
     "output_type": "stream",
     "text": [
      "<class 'pandas.core.frame.DataFrame'>\n",
      "RangeIndex: 15389314 entries, 0 to 15389313\n",
      "Data columns (total 14 columns):\n",
      " #   Column       Dtype  \n",
      "---  ------       -----  \n",
      " 0   ticker       object \n",
      " 1   date         object \n",
      " 2   open         float64\n",
      " 3   high         float64\n",
      " 4   low          float64\n",
      " 5   close        float64\n",
      " 6   volume       float64\n",
      " 7   ex-dividend  float64\n",
      " 8   split_ratio  float64\n",
      " 9   adj_open     float64\n",
      " 10  adj_high     float64\n",
      " 11  adj_low      float64\n",
      " 12  adj_close    float64\n",
      " 13  adj_volume   float64\n",
      "dtypes: float64(12), object(2)\n",
      "memory usage: 1.6+ GB\n",
      "None\n",
      "  ticker        date   open   high    low  close      volume  ex-dividend  split_ratio   adj_open   adj_high    adj_low  adj_close  adj_volume\n",
      "0      A  1999-11-18  45.50  50.00  40.00  44.00  44739900.0          0.0          1.0  31.041951  34.112034  27.289627  30.018590  44739900.0\n",
      "1      A  1999-11-19  42.94  43.00  39.81  40.38  10897100.0          0.0          1.0  29.295415  29.336350  27.160002  27.548879  10897100.0\n",
      "2      A  1999-11-22  41.31  44.00  40.06  44.00   4705200.0          0.0          1.0  28.183363  30.018590  27.330562  30.018590   4705200.0\n",
      "3      A  1999-11-23  42.50  43.63  40.25  40.25   4274400.0          0.0          1.0  28.995229  29.766161  27.460188  27.460188   4274400.0\n",
      "4      A  1999-11-24  40.13  41.94  40.00  41.06   3464400.0          0.0          1.0  27.378319  28.613174  27.289627  28.012803   3464400.0\n"
     ]
    }
   ],
   "source": [
    "wiki_df = pd.read_csv('/home/noslen/alpaca-trading/data/WIKI_PRICES.csv')\n",
    "print(wiki_df.info())\n",
    "print(wiki_df.head())"
   ]
  },
  {
   "cell_type": "code",
   "execution_count": 5,
   "metadata": {},
   "outputs": [
    {
     "name": "stdout",
     "output_type": "stream",
     "text": [
      "<class 'pandas.core.frame.DataFrame'>\n",
      "RangeIndex: 374 entries, 0 to 373\n",
      "Data columns (total 7 columns):\n",
      " #   Column        Non-Null Count  Dtype \n",
      "---  ------        --------------  ----- \n",
      " 0   table         374 non-null    object\n",
      " 1   indicator     374 non-null    object\n",
      " 2   isfilter      374 non-null    object\n",
      " 3   isprimarykey  374 non-null    object\n",
      " 4   title         374 non-null    object\n",
      " 5   description   368 non-null    object\n",
      " 6   unittype      370 non-null    object\n",
      "dtypes: object(7)\n",
      "memory usage: 20.6+ KB\n",
      "None\n",
      "  table indicator isfilter isprimarykey                                       title                                        description  unittype\n",
      "0   SF1   revenue        N            N                                    Revenues  [Income Statement] The amount of Revenue recog...  currency\n",
      "1   SF1       cor        N            N                             Cost of Revenue  [Income Statement] The aggregate cost of goods...  currency\n",
      "2   SF1      sgna        N            N  Selling General and Administrative Expense  [Income Statement] A component of [OpEx] repre...  currency\n",
      "3   SF1       rnd        N            N            Research and Development Expense  [Income Statement] A component of [OpEx] repre...  currency\n",
      "4   SF1      opex        N            N                          Operating Expenses  [Income Statement] Operating expenses represen...  currency\n"
     ]
    }
   ],
   "source": [
    "sharadar_indicators = pd.read_csv('/home/noslen/alpaca-trading/data/SHARADAR/SHARADAR_INDICATORS.csv')\n",
    "print(sharadar_indicators.info())\n",
    "print(sharadar_indicators.head())\n"
   ]
  },
  {
   "cell_type": "markdown",
   "metadata": {},
   "source": [
    "## Create the datasets with updated data"
   ]
  },
  {
   "cell_type": "code",
   "execution_count": 3,
   "metadata": {},
   "outputs": [
    {
     "name": "stdout",
     "output_type": "stream",
     "text": [
      "<class 'pandas.core.frame.DataFrame'>\n",
      "RangeIndex: 58625 entries, 0 to 58624\n",
      "Data columns (total 28 columns):\n",
      " #   Column          Non-Null Count  Dtype  \n",
      "---  ------          --------------  -----  \n",
      " 0   table           58625 non-null  object \n",
      " 1   permaticker     58625 non-null  int64  \n",
      " 2   ticker          46807 non-null  object \n",
      " 3   name            58625 non-null  object \n",
      " 4   exchange        46809 non-null  object \n",
      " 5   isdelisted      46809 non-null  object \n",
      " 6   category        58625 non-null  object \n",
      " 7   cusips          46693 non-null  object \n",
      " 8   siccode         39515 non-null  float64\n",
      " 9   sicsector       39515 non-null  object \n",
      " 10  sicindustry     39515 non-null  object \n",
      " 11  famasector      0 non-null      float64\n",
      " 12  famaindustry    38776 non-null  object \n",
      " 13  sector          38952 non-null  object \n",
      " 14  industry        38952 non-null  object \n",
      " 15  scalemarketcap  34185 non-null  object \n",
      " 16  scalerevenue    32184 non-null  object \n",
      " 17  relatedtickers  22251 non-null  object \n",
      " 18  currency        58625 non-null  object \n",
      " 19  location        51789 non-null  object \n",
      " 20  lastupdated     46809 non-null  object \n",
      " 21  firstadded      46809 non-null  object \n",
      " 22  firstpricedate  46809 non-null  object \n",
      " 23  lastpricedate   46809 non-null  object \n",
      " 24  firstquarter    46165 non-null  object \n",
      " 25  lastquarter     46165 non-null  object \n",
      " 26  secfilings      58030 non-null  object \n",
      " 27  companysite     11088 non-null  object \n",
      "dtypes: float64(2), int64(1), object(25)\n",
      "memory usage: 12.5+ MB\n",
      "None\n"
     ]
    }
   ],
   "source": [
    "tickers_data = pd.read_csv('/home/noslen/alpaca-trading/data/SHARADAR/SHARADAR_TICKERS.csv')\n",
    "\n",
    "print(tickers_data.info())"
   ]
  },
  {
   "cell_type": "markdown",
   "metadata": {},
   "source": [
    "### Get Daily Metrics Data for current marketcap"
   ]
  },
  {
   "cell_type": "code",
   "execution_count": 6,
   "metadata": {},
   "outputs": [
    {
     "name": "stdout",
     "output_type": "stream",
     "text": [
      "       lastupdated       ev  evebit  evebitda  marketcap    pb      pe   ps\n",
      "ticker                                                                     \n",
      "A       2025-05-09  32382.0    20.4      17.5    30486.0   5.1    24.2  4.7\n",
      "AA      2025-05-09   8156.7     5.6       3.9     6710.7   1.2     7.8  0.5\n",
      "AACB    2025-05-09    293.0 -3447.1   -3447.1      293.4 -24.5 -3451.8  NaN\n",
      "AACG    2025-05-09     30.7    -5.1     -11.6       30.9   2.8    -6.2  0.8\n",
      "AACT    2025-05-09    708.4    27.3      27.3      704.4 -32.0    27.1  NaN\n",
      "<class 'pandas.core.frame.DataFrame'>\n",
      "Index: 5370 entries, A to nan\n",
      "Data columns (total 8 columns):\n",
      " #   Column       Non-Null Count  Dtype  \n",
      "---  ------       --------------  -----  \n",
      " 0   lastupdated  5370 non-null   object \n",
      " 1   ev           5370 non-null   float64\n",
      " 2   evebit       5360 non-null   float64\n",
      " 3   evebitda     5358 non-null   float64\n",
      " 4   marketcap    5370 non-null   float64\n",
      " 5   pb           5369 non-null   float64\n",
      " 6   pe           5361 non-null   float64\n",
      " 7   ps           4837 non-null   float64\n",
      "dtypes: float64(7), object(1)\n",
      "memory usage: 377.6+ KB\n",
      "None\n"
     ]
    }
   ],
   "source": [
    "# daily_data = nasdaqdatalink.get_table('SHARADAR_DAILY')\n",
    "daily_data = pd.read_csv(\n",
    "    \"alpaca-trading/data/SHARADAR/SHARADAR_DAILY.csv\",\n",
    "    parse_dates=[\"date\"],\n",
    "    index_col=[\"date\", \"ticker\"]\n",
    ").sort_index()\n",
    "# Find the maximum date\n",
    "max_date = daily_data.index.get_level_values('date').max()\n",
    "\n",
    "# Filter the DataFrame to include only the rows with the maximum date\n",
    "daily_data = daily_data.loc[max_date]\n",
    "\n",
    "# Reset the index to make 'ticker' a column\n",
    "daily_data = daily_data.reset_index()\n",
    "\n",
    "# Set the index to 'ticker' only\n",
    "daily_data = daily_data.set_index('ticker')\n",
    "\n",
    "print(daily_data.head())\n",
    "print(daily_data.info())\n"
   ]
  },
  {
   "cell_type": "markdown",
   "metadata": {},
   "source": [
    "#### drop last index of dataframe:"
   ]
  },
  {
   "cell_type": "code",
   "execution_count": 7,
   "metadata": {},
   "outputs": [
    {
     "name": "stdout",
     "output_type": "stream",
     "text": [
      "<class 'pandas.core.frame.DataFrame'>\n",
      "Index: 5369 entries, A to ZYXI\n",
      "Data columns (total 8 columns):\n",
      " #   Column       Non-Null Count  Dtype  \n",
      "---  ------       --------------  -----  \n",
      " 0   lastupdated  5369 non-null   object \n",
      " 1   ev           5369 non-null   float64\n",
      " 2   evebit       5359 non-null   float64\n",
      " 3   evebitda     5357 non-null   float64\n",
      " 4   marketcap    5369 non-null   float64\n",
      " 5   pb           5368 non-null   float64\n",
      " 6   pe           5360 non-null   float64\n",
      " 7   ps           4836 non-null   float64\n",
      "dtypes: float64(7), object(1)\n",
      "memory usage: 377.5+ KB\n",
      "None\n"
     ]
    }
   ],
   "source": [
    "daily_data.drop(daily_data.tail(1).index,inplace=True)\n",
    "print(daily_data.info())"
   ]
  },
  {
   "cell_type": "code",
   "execution_count": 2,
   "metadata": {},
   "outputs": [
    {
     "ename": "NameError",
     "evalue": "name 'pd' is not defined",
     "output_type": "error",
     "traceback": [
      "\u001b[0;31m---------------------------------------------------------------------------\u001b[0m",
      "\u001b[0;31mNameError\u001b[0m                                 Traceback (most recent call last)",
      "Cell \u001b[0;32mIn[2], line 4\u001b[0m\n\u001b[1;32m      1\u001b[0m sep_path \u001b[38;5;241m=\u001b[39m \u001b[38;5;124m'\u001b[39m\u001b[38;5;124malpaca-trading/data/SHARADAR/SHARADAR_SEP.csv\u001b[39m\u001b[38;5;124m'\u001b[39m\n\u001b[1;32m      2\u001b[0m actions_path \u001b[38;5;241m=\u001b[39m \u001b[38;5;124m'\u001b[39m\u001b[38;5;124malpaca-trading/data/SHARADAR/SHARADAR_ACTIONS.csv\u001b[39m\u001b[38;5;124m'\u001b[39m\n\u001b[0;32m----> 4\u001b[0m sep_data \u001b[38;5;241m=\u001b[39m pd\u001b[38;5;241m.\u001b[39mread_csv(\n\u001b[1;32m      5\u001b[0m     sep_path,\n\u001b[1;32m      6\u001b[0m     parse_dates\u001b[38;5;241m=\u001b[39m[\u001b[38;5;124m\"\u001b[39m\u001b[38;5;124mdate\u001b[39m\u001b[38;5;124m\"\u001b[39m],\n\u001b[1;32m      7\u001b[0m     index_col\u001b[38;5;241m=\u001b[39m[\u001b[38;5;124m\"\u001b[39m\u001b[38;5;124mdate\u001b[39m\u001b[38;5;124m\"\u001b[39m, \u001b[38;5;124m\"\u001b[39m\u001b[38;5;124mticker\u001b[39m\u001b[38;5;124m\"\u001b[39m]\n\u001b[1;32m      8\u001b[0m )\u001b[38;5;241m.\u001b[39msort_index()\n\u001b[1;32m     10\u001b[0m actions_data \u001b[38;5;241m=\u001b[39m pd\u001b[38;5;241m.\u001b[39mread_csv(\n\u001b[1;32m     11\u001b[0m     actions_path,\n\u001b[1;32m     12\u001b[0m     parse_dates\u001b[38;5;241m=\u001b[39m[\u001b[38;5;124m\"\u001b[39m\u001b[38;5;124mdate\u001b[39m\u001b[38;5;124m\"\u001b[39m],\n\u001b[1;32m     13\u001b[0m     index_col\u001b[38;5;241m=\u001b[39m[\u001b[38;5;124m\"\u001b[39m\u001b[38;5;124mdate\u001b[39m\u001b[38;5;124m\"\u001b[39m, \u001b[38;5;124m\"\u001b[39m\u001b[38;5;124mticker\u001b[39m\u001b[38;5;124m\"\u001b[39m]\n\u001b[1;32m     14\u001b[0m )\u001b[38;5;241m.\u001b[39msort_index()\n",
      "\u001b[0;31mNameError\u001b[0m: name 'pd' is not defined"
     ]
    }
   ],
   "source": [
    "sep_path = 'alpaca-trading/data/SHARADAR/SHARADAR_SEP.csv'\n",
    "actions_path = 'alpaca-trading/data/SHARADAR/SHARADAR_ACTIONS.csv'\n",
    "\n",
    "sep_data = pd.read_csv(\n",
    "    sep_path,\n",
    "    parse_dates=[\"date\"],\n",
    "    index_col=[\"date\", \"ticker\"]\n",
    ").sort_index()\n",
    "\n",
    "actions_data = pd.read_csv(\n",
    "    actions_path,\n",
    "    parse_dates=[\"date\"],\n",
    "    index_col=[\"date\", \"ticker\"]\n",
    ").sort_index()"
   ]
  },
  {
   "cell_type": "code",
   "execution_count": 10,
   "metadata": {},
   "outputs": [
    {
     "name": "stdout",
     "output_type": "stream",
     "text": [
      "                    open    high    low   close    volume  closeadj  closeunadj lastupdated\n",
      "date       ticker                                                                          \n",
      "2025-05-09 ZWS     35.17  35.640  34.91  35.200  607309.0    35.200      35.200  2025-05-09\n",
      "           ZYBT    10.44  10.710   9.53  10.310   76956.0    10.310      10.310  2025-05-09\n",
      "           ZYME    11.38  12.185  11.00  11.305  657945.0    11.305      11.305  2025-05-09\n",
      "           ZYXI     2.15   2.160   2.07   2.070   62781.0     2.070       2.070  2025-05-09\n",
      "           NaN      4.28   4.400   4.00   4.190    4191.0     4.190       4.190  2025-05-09\n"
     ]
    }
   ],
   "source": [
    "# sep_data.drop(daily_data.tail(1).index,inplace=True)\n",
    "print(sep_data.tail())"
   ]
  },
  {
   "cell_type": "code",
   "execution_count": 12,
   "metadata": {},
   "outputs": [
    {
     "name": "stdout",
     "output_type": "stream",
     "text": [
      "<class 'pandas.core.frame.DataFrame'>\n",
      "Index: 10738 entries, 0 to 39455\n",
      "Data columns (total 7 columns):\n",
      " #   Column     Non-Null Count  Dtype  \n",
      "---  ------     --------------  -----  \n",
      " 0   ticker     10738 non-null  object \n",
      " 1   name       10738 non-null  object \n",
      " 2   last_sale  10102 non-null  float64\n",
      " 3   marketcap  10738 non-null  float64\n",
      " 4   ipoyear    10738 non-null  float64\n",
      " 5   sector     10728 non-null  object \n",
      " 6   industry   10728 non-null  object \n",
      "dtypes: float64(3), object(4)\n",
      "memory usage: 671.1+ KB\n",
      "None\n"
     ]
    }
   ],
   "source": [
    "\n",
    "# ticker,name,lastsale,marketcap,ipoyear,sector,industry\n",
    "\n",
    "date = pd.Timestamp('2024-05-23') \n",
    "\n",
    "tickers_data[\"last_sale\"] = tickers_data[\"ticker\"].apply(\n",
    "    lambda ticker: sep_data.loc[(date, ticker), 'close'] if (date, ticker) in sep_data.index else None\n",
    ")\n",
    "tickers_data['marketcap'] = tickers_data['ticker'].apply(\n",
    "    lambda x: daily_data.loc[x, 'marketcap'] if x in daily_data.index else None\n",
    ")\n",
    "tickers_data[\"firstpricedate\"] = pd.to_datetime(tickers_data[\"firstpricedate\"], errors='coerce')\n",
    "tickers_data[\"ipoyear\"] = tickers_data[\"firstpricedate\"].dt.year.astype(float)\n",
    "\n",
    "\n",
    "\n",
    "stock_data = tickers_data[\n",
    "    [\n",
    "        \"ticker\",\n",
    "        \"name\",\n",
    "        \"last_sale\",\n",
    "        \"marketcap\",\n",
    "        \"ipoyear\",\n",
    "        \"sector\",\n",
    "        \"industry\"\n",
    "    ]\n",
    "]\n",
    "stock_data = stock_data.dropna(subset=['marketcap'])\n",
    "\n",
    "\n",
    "print(stock_data.info())\n"
   ]
  },
  {
   "cell_type": "code",
   "execution_count": 13,
   "metadata": {},
   "outputs": [
    {
     "name": "stdout",
     "output_type": "stream",
     "text": [
      "   ticker                       name  last_sale  marketcap  ipoyear              sector                       industry\n",
      "0       A   AGILENT TECHNOLOGIES INC     150.55    30486.0   1999.0          Healthcare         Diagnostics & Research\n",
      "1      AA                 ALCOA CORP      41.05     6710.7   2016.0     Basic Materials                       Aluminum\n",
      "8    AACB  ARTIUS II ACQUISITION INC        NaN      293.4   2025.0         Industrials                Shell Companies\n",
      "12   AACG      ATA CREATIVITY GLOBAL       0.88       30.9   2008.0  Consumer Defensive  Education & Training Services\n",
      "15   AACT   ARES ACQUISITION CORP II      10.64      704.4   2023.0         Industrials                Shell Companies\n"
     ]
    }
   ],
   "source": [
    "print(stock_data.head())\n"
   ]
  },
  {
   "cell_type": "code",
   "execution_count": 15,
   "metadata": {},
   "outputs": [],
   "source": [
    "stock_data.to_csv('alpaca-trading/data/STOCK_META_DATA.csv', index=False)\n"
   ]
  },
  {
   "cell_type": "code",
   "execution_count": 16,
   "metadata": {},
   "outputs": [
    {
     "name": "stdout",
     "output_type": "stream",
     "text": [
      "<class 'pandas.core.frame.DataFrame'>\n",
      "Index: 10738 entries, 0 to 39455\n",
      "Data columns (total 7 columns):\n",
      " #   Column     Non-Null Count  Dtype  \n",
      "---  ------     --------------  -----  \n",
      " 0   ticker     10738 non-null  object \n",
      " 1   name       10738 non-null  object \n",
      " 2   last_sale  10102 non-null  float64\n",
      " 3   marketcap  10738 non-null  float64\n",
      " 4   ipoyear    10738 non-null  float64\n",
      " 5   sector     10728 non-null  object \n",
      " 6   industry   10728 non-null  object \n",
      "dtypes: float64(3), object(4)\n",
      "memory usage: 671.1+ KB\n"
     ]
    }
   ],
   "source": [
    "stock_data.info()"
   ]
  },
  {
   "cell_type": "markdown",
   "metadata": {},
   "source": [
    "## Create the new prices table"
   ]
  },
  {
   "cell_type": "code",
   "execution_count": 17,
   "metadata": {},
   "outputs": [
    {
     "ename": "",
     "evalue": "",
     "output_type": "error",
     "traceback": [
      "\u001b[1;31mThe Kernel crashed while executing code in the current cell or a previous cell. \n",
      "\u001b[1;31mPlease review the code in the cell(s) to identify a possible cause of the failure. \n",
      "\u001b[1;31mClick <a href='https://aka.ms/vscodeJupyterKernelCrash'>here</a> for more info. \n",
      "\u001b[1;31mView Jupyter <a href='command:jupyter.viewOutput'>log</a> for further details."
     ]
    },
    {
     "ename": "",
     "evalue": "",
     "output_type": "error",
     "traceback": [
      "\u001b[1;31mCanceled future for execute_request message before replies were done"
     ]
    },
    {
     "ename": "",
     "evalue": "",
     "output_type": "error",
     "traceback": [
      "\u001b[1;31mCanceled future for execute_request message before replies were done. \n",
      "\u001b[1;31mView Jupyter <a href='command:jupyter.viewOutput'>log</a> for further details."
     ]
    }
   ],
   "source": [
    "# OpenAdj = Open * CloseAdj / Close.\n",
    "\n",
    "adj_factor = sep_data[\"closeadj\"] / sep_data[\"close\"]\n",
    "# Calculate the adjusted values\n",
    "sep_data[\"adj_open\"] = sep_data[\"open\"] * adj_factor\n",
    "sep_data[\"adj_high\"] = sep_data[\"high\"] * adj_factor\n",
    "sep_data[\"adj_low\"] = sep_data[\"low\"] * adj_factor\n",
    "sep_data[\"adj_close\"] = sep_data[\"closeadj\"]\n",
    "\n",
    "# Filter dividends and splits\n",
    "dividends = actions_data.loc[actions_data[\"action\"] == \"dividend\", \"value\"]\n",
    "splits = actions_data.loc[actions_data[\"action\"] == \"split\", \"value\"]\n",
    "\n",
    "# Merge the dividends and splits into the SEP data\n",
    "sep_data = sep_data.join(dividends.rename(\"ex-dividend\"), how=\"left\")\n",
    "sep_data = sep_data.join(splits.rename(\"split_ratio\"), how=\"left\")\n",
    "\n",
    "# Fill missing values for new columns\n",
    "sep_data[\"ex-dividend\"].fillna(0, inplace=True)\n",
    "sep_data[\"split_ratio\"].fillna(1, inplace=True) \n",
    "sep_data[\"adj_volume\"] = sep_data[\"volume\"]\n",
    "\n",
    "# Reset index to manipulate date\n",
    "sep_data.reset_index(inplace=True)\n",
    "\n",
    "# Convert datetime to string\n",
    "sep_data[\"date\"] = sep_data[\"date\"].astype(str)\n",
    "\n",
    "# Select only required columns\n",
    "final_df = sep_data[\n",
    "    [\n",
    "        \"ticker\",\n",
    "        \"date\",\n",
    "        \"open\",\n",
    "        \"high\",\n",
    "        \"low\",\n",
    "        \"close\",\n",
    "        \"volume\",\n",
    "        \"ex-dividend\",\n",
    "        \"split_ratio\",\n",
    "        \"adj_open\",\n",
    "        \"adj_high\",\n",
    "        \"adj_low\",\n",
    "        \"adj_close\",\n",
    "        \"adj_volume\",\n",
    "    ]\n",
    "]\n",
    "final_df.dropna(subset=[\"ticker\"], inplace=True)\n",
    "final_df.to_csv('data/SHARADAR_PRICES.csv', index=False)\n",
    "\n",
    "# with pd.HDFStore(DATA_STORE) as store:\n",
    "#     store.put('sharadar/equity/prices', final_df, format='table')\n",
    "#     print(\"DataFrame stored successfully.\")\n",
    "\n",
    "# # Verifying what's stored\n",
    "# with pd.HDFStore(DATA_STORE) as store:\n",
    "#     if 'sharadar/equity/prices' in store:\n",
    "#         df_stored = store['sharadar/equity/prices']\n",
    "#         print(df_stored.columns)  # This will list all the columns stored"
   ]
  },
  {
   "cell_type": "code",
   "execution_count": 13,
   "metadata": {},
   "outputs": [
    {
     "name": "stdout",
     "output_type": "stream",
     "text": [
      "<class 'pandas.core.frame.DataFrame'>\n",
      "Index: 17246022 entries, 0 to 17246492\n",
      "Data columns (total 14 columns):\n",
      " #   Column       Dtype  \n",
      "---  ------       -----  \n",
      " 0   ticker       object \n",
      " 1   date         object \n",
      " 2   open         float64\n",
      " 3   high         float64\n",
      " 4   low          float64\n",
      " 5   close        float64\n",
      " 6   volume       float64\n",
      " 7   ex-dividend  float64\n",
      " 8   split_ratio  float64\n",
      " 9   adj_open     float64\n",
      " 10  adj_high     float64\n",
      " 11  adj_low      float64\n",
      " 12  adj_close    float64\n",
      " 13  adj_volume   float64\n",
      "dtypes: float64(12), object(2)\n",
      "memory usage: 1.9+ GB\n",
      "None\n"
     ]
    }
   ],
   "source": [
    "print(final_df.info())"
   ]
  },
  {
   "cell_type": "markdown",
   "metadata": {},
   "source": [
    "### Convert the new prices table to HDF5"
   ]
  },
  {
   "cell_type": "code",
   "execution_count": 14,
   "metadata": {},
   "outputs": [
    {
     "name": "stdout",
     "output_type": "stream",
     "text": [
      "<class 'pandas.core.frame.DataFrame'>\n",
      "MultiIndex: 17246022 entries, (Timestamp('2014-01-02 00:00:00'), 'A') to (Timestamp('2024-05-24 00:00:00'), 'ZYXI')\n",
      "Data columns (total 12 columns):\n",
      " #   Column       Dtype  \n",
      "---  ------       -----  \n",
      " 0   open         float64\n",
      " 1   high         float64\n",
      " 2   low          float64\n",
      " 3   close        float64\n",
      " 4   volume       float64\n",
      " 5   ex-dividend  float64\n",
      " 6   split_ratio  float64\n",
      " 7   adj_open     float64\n",
      " 8   adj_high     float64\n",
      " 9   adj_low      float64\n",
      " 10  adj_close    float64\n",
      " 11  adj_volume   float64\n",
      "dtypes: float64(12)\n",
      "memory usage: 1.6+ GB\n",
      "None\n",
      "                     open    high     low   close     volume  ex-dividend  split_ratio   adj_open   adj_high    adj_low  adj_close  adj_volume\n",
      "date       ticker                                                                                                                             \n",
      "2014-01-02 A       57.100  57.100  56.150  56.210  1916200.0          0.0          1.0  37.863161  37.863161  37.233214     37.273   1916200.0\n",
      "           AACG     4.000   4.000   3.940   3.940    13000.0          0.0          1.0   1.334010   1.334010   1.314000      1.314     13000.0\n",
      "           AAIC    26.390  26.520  26.110  26.240   159700.0          0.0          1.0   9.959610  10.008672   9.853938      9.903    159700.0\n",
      "           AAIIQ    0.030   0.030   0.030   0.030        0.0          0.0          1.0   0.030000   0.030000   0.030000      0.030         0.0\n",
      "           AAIR     0.006   0.006   0.006   0.006     2800.0          0.0          1.0   0.006000   0.006000   0.006000      0.006      2800.0\n"
     ]
    }
   ],
   "source": [
    "prices = (pd.read_csv('data/SHARADAR_PRICES.csv',\n",
    "                 parse_dates=['date'],\n",
    "                 index_col=['date', 'ticker'],\n",
    "                 infer_datetime_format=True)\n",
    "     .sort_index())\n",
    "print(prices.info())\n",
    "print(prices.head())"
   ]
  },
  {
   "cell_type": "code",
   "execution_count": 15,
   "metadata": {},
   "outputs": [],
   "source": [
    "DATA_STORE = Path('data/assets.h5')"
   ]
  },
  {
   "cell_type": "code",
   "execution_count": 16,
   "metadata": {},
   "outputs": [],
   "source": [
    "\n",
    "with pd.HDFStore(DATA_STORE) as store:\n",
    "    store.put('sharadar/sep/prices', prices)\n",
    "    # store.put('quandl/wiki/prices', prices)"
   ]
  },
  {
   "cell_type": "code",
   "execution_count": 17,
   "metadata": {},
   "outputs": [
    {
     "name": "stdout",
     "output_type": "stream",
     "text": [
      "<class 'pandas.core.frame.DataFrame'>\n",
      "MultiIndex: 17246022 entries, (Timestamp('2014-01-02 00:00:00'), 'A') to (Timestamp('2024-05-24 00:00:00'), 'ZYXI')\n",
      "Data columns (total 12 columns):\n",
      " #   Column       Dtype  \n",
      "---  ------       -----  \n",
      " 0   open         float64\n",
      " 1   high         float64\n",
      " 2   low          float64\n",
      " 3   close        float64\n",
      " 4   volume       float64\n",
      " 5   ex-dividend  float64\n",
      " 6   split_ratio  float64\n",
      " 7   adj_open     float64\n",
      " 8   adj_high     float64\n",
      " 9   adj_low      float64\n",
      " 10  adj_close    float64\n",
      " 11  adj_volume   float64\n",
      "dtypes: float64(12)\n",
      "memory usage: 1.6+ GB\n",
      "None\n"
     ]
    }
   ],
   "source": [
    "print(prices.info())"
   ]
  },
  {
   "cell_type": "code",
   "execution_count": 18,
   "metadata": {},
   "outputs": [
    {
     "name": "stdout",
     "output_type": "stream",
     "text": [
      "<class 'pandas.io.pytables.HDFStore'>\n",
      "File path: data/assets.h5\n",
      "/sharadar/sep/prices                               frame        (shape->[17246022,12])                                                                  \n",
      "/sharadar/sep/stocks                               frame        (shape->[5494,6])                                                                       \n",
      "/stooq/5/us/nasdaq/etfs/prices                     frame_table  (typ->appendable_multi,nrows->457963,ncols->9,indexers->[index],dc->[date_time,ticker]) \n",
      "/stooq/5/us/nasdaq/etfs/tickers                    frame_table  (typ->appendable,nrows->357,ncols->2,indexers->[index],dc->[])                          \n",
      "/stooq/5/us/nasdaq/stocks/prices                   frame_table  (typ->appendable_multi,nrows->6317799,ncols->9,indexers->[index],dc->[date_time,ticker])\n",
      "/stooq/5/us/nasdaq/stocks/tickers                  frame_table  (typ->appendable,nrows->4543,ncols->2,indexers->[index],dc->[])                         \n",
      "/stooq/5/us/nyse/etfs/prices                       frame_table  (typ->appendable_multi,nrows->2866524,ncols->9,indexers->[index],dc->[date_time,ticker])\n",
      "/stooq/5/us/nyse/etfs/tickers                      frame_table  (typ->appendable,nrows->2882,ncols->2,indexers->[index],dc->[])                         \n",
      "/stooq/5/us/nyse/stocks/prices                     frame_table  (typ->appendable_multi,nrows->5769871,ncols->9,indexers->[index],dc->[date_time,ticker])\n",
      "/stooq/5/us/nyse/stocks/tickers                    frame_table  (typ->appendable,nrows->3035,ncols->2,indexers->[index],dc->[])                         \n",
      "/stooq/5/us/nysemkt/stocks/prices                  frame_table  (typ->appendable_multi,nrows->416500,ncols->9,indexers->[index],dc->[date_time,ticker]) \n",
      "/stooq/5/us/nysemkt/stocks/tickers                 frame_table  (typ->appendable,nrows->353,ncols->2,indexers->[index],dc->[])                          \n",
      "/stooq/5/world/bonds/prices                        frame_table  (typ->appendable_multi,nrows->450509,ncols->9,indexers->[index],dc->[date_time,ticker]) \n",
      "/stooq/5/world/bonds/tickers                       frame_table  (typ->appendable,nrows->278,ncols->2,indexers->[index],dc->[])                          \n",
      "/stooq/5/world/cryptocurrencies/prices             frame_table  (typ->appendable_multi,nrows->3592929,ncols->7,indexers->[index],dc->[date_time,ticker])\n",
      "/stooq/5/world/cryptocurrencies/tickers            frame_table  (typ->appendable,nrows->266,ncols->2,indexers->[index],dc->[])                          \n",
      "/stooq/5/world/currencies/prices                   frame_table  (typ->appendable_multi,nrows->666748,ncols->7,indexers->[index],dc->[date_time,ticker]) \n",
      "/stooq/5/world/currencies/tickers                  frame_table  (typ->appendable,nrows->66,ncols->2,indexers->[index],dc->[])                           \n",
      "/stooq/5/world/indices/prices                      frame_table  (typ->appendable_multi,nrows->160033,ncols->9,indexers->[index],dc->[date_time,ticker]) \n",
      "/stooq/5/world/indices/tickers                     frame_table  (typ->appendable,nrows->62,ncols->2,indexers->[index],dc->[])                           \n",
      "/stooq/d/jp/tse/stocks/prices                      frame_table  (typ->appendable_multi,nrows->13353920,ncols->7,indexers->[index],dc->[date,ticker])    \n",
      "/stooq/d/jp/tse/stocks/tickers                     frame_table  (typ->appendable,nrows->3899,ncols->2,indexers->[index],dc->[])                         \n",
      "/stooq/d/us/nasdaq/etfs/prices                     frame_table  (typ->appendable_multi,nrows->912894,ncols->7,indexers->[index],dc->[date,ticker])      \n",
      "/stooq/d/us/nasdaq/etfs/tickers                    frame_table  (typ->appendable,nrows->357,ncols->2,indexers->[index],dc->[])                          \n",
      "/stooq/d/us/nasdaq/stocks/prices                   frame_table  (typ->appendable_multi,nrows->8460597,ncols->7,indexers->[index],dc->[date,ticker])     \n",
      "/stooq/d/us/nasdaq/stocks/tickers                  frame_table  (typ->appendable,nrows->4543,ncols->2,indexers->[index],dc->[])                         \n",
      "/stooq/d/us/nyse/etfs/prices                       frame_table  (typ->appendable_multi,nrows->4985287,ncols->7,indexers->[index],dc->[date,ticker])     \n",
      "/stooq/d/us/nyse/etfs/tickers                      frame_table  (typ->appendable,nrows->2882,ncols->2,indexers->[index],dc->[])                         \n",
      "/stooq/d/us/nyse/stocks/prices                     frame_table  (typ->appendable_multi,nrows->8911694,ncols->7,indexers->[index],dc->[date,ticker])     \n",
      "/stooq/d/us/nyse/stocks/tickers                    frame_table  (typ->appendable,nrows->3035,ncols->2,indexers->[index],dc->[])                         \n",
      "/stooq/d/us/nysemkt/stocks/prices                  frame_table  (typ->appendable_multi,nrows->859462,ncols->7,indexers->[index],dc->[date,ticker])      \n",
      "/stooq/d/us/nysemkt/stocks/tickers                 frame_table  (typ->appendable,nrows->353,ncols->2,indexers->[index],dc->[])                          \n",
      "/stooq/d/world/bonds/prices                        frame_table  (typ->appendable_multi,nrows->1006952,ncols->7,indexers->[index],dc->[date,ticker])     \n",
      "/stooq/d/world/bonds/tickers                       frame_table  (typ->appendable,nrows->278,ncols->2,indexers->[index],dc->[])                          \n",
      "/stooq/d/world/cryptocurrencies/prices             frame_table  (typ->appendable_multi,nrows->333815,ncols->7,indexers->[index],dc->[date,ticker])      \n",
      "/stooq/d/world/cryptocurrencies/tickers            frame_table  (typ->appendable,nrows->266,ncols->2,indexers->[index],dc->[])                          \n",
      "/stooq/d/world/currencies/prices                   frame_table  (typ->appendable_multi,nrows->414733,ncols->7,indexers->[index],dc->[date,ticker])      \n",
      "/stooq/d/world/currencies/tickers                  frame_table  (typ->appendable,nrows->66,ncols->2,indexers->[index],dc->[])                           \n",
      "/stooq/d/world/indices/prices                      frame_table  (typ->appendable_multi,nrows->363611,ncols->7,indexers->[index],dc->[date,ticker])      \n",
      "/stooq/d/world/indices/tickers                     frame_table  (typ->appendable,nrows->62,ncols->2,indexers->[index],dc->[])                           \n",
      "/stooq/d/world/money/market/prices                 frame_table  (typ->appendable_multi,nrows->155561,ncols->7,indexers->[index],dc->[date,ticker])      \n",
      "/stooq/d/world/money/market/tickers                frame_table  (typ->appendable,nrows->33,ncols->2,indexers->[index],dc->[])                           \n",
      "/stooq/h/us/nasdaq/etfs/prices                     frame_table  (typ->appendable_multi,nrows->417259,ncols->9,indexers->[index],dc->[date_time,ticker]) \n",
      "/stooq/h/us/nasdaq/etfs/tickers                    frame_table  (typ->appendable,nrows->357,ncols->2,indexers->[index],dc->[])                          \n",
      "/stooq/h/us/nasdaq/stocks/prices                   frame_table  (typ->appendable_multi,nrows->4837704,ncols->9,indexers->[index],dc->[date_time,ticker])\n",
      "/stooq/h/us/nasdaq/stocks/tickers                  frame_table  (typ->appendable,nrows->4543,ncols->2,indexers->[index],dc->[])                         \n",
      "/stooq/h/us/nyse/etfs/prices                       frame_table  (typ->appendable_multi,nrows->2699812,ncols->9,indexers->[index],dc->[date_time,ticker])\n",
      "/stooq/h/us/nyse/etfs/tickers                      frame_table  (typ->appendable,nrows->2882,ncols->2,indexers->[index],dc->[])                         \n",
      "/stooq/h/us/nyse/stocks/prices                     frame_table  (typ->appendable_multi,nrows->3825132,ncols->9,indexers->[index],dc->[date_time,ticker])\n",
      "/stooq/h/us/nyse/stocks/tickers                    frame_table  (typ->appendable,nrows->3035,ncols->2,indexers->[index],dc->[])                         \n",
      "/stooq/h/us/nysemkt/stocks/prices                  frame_table  (typ->appendable_multi,nrows->365635,ncols->9,indexers->[index],dc->[date_time,ticker]) \n",
      "/stooq/h/us/nysemkt/stocks/tickers                 frame_table  (typ->appendable,nrows->353,ncols->2,indexers->[index],dc->[])                          \n",
      "/stooq/h/world/bonds/prices                        frame_table  (typ->appendable_multi,nrows->181388,ncols->9,indexers->[index],dc->[date_time,ticker]) \n",
      "/stooq/h/world/bonds/tickers                       frame_table  (typ->appendable,nrows->278,ncols->2,indexers->[index],dc->[])                          \n",
      "/stooq/h/world/cryptocurrencies/prices             frame_table  (typ->appendable_multi,nrows->1884246,ncols->7,indexers->[index],dc->[date_time,ticker])\n",
      "/stooq/h/world/cryptocurrencies/tickers            frame_table  (typ->appendable,nrows->266,ncols->2,indexers->[index],dc->[])                          \n",
      "/stooq/h/world/currencies/prices                   frame_table  (typ->appendable_multi,nrows->330271,ncols->7,indexers->[index],dc->[date_time,ticker]) \n",
      "/stooq/h/world/currencies/tickers                  frame_table  (typ->appendable,nrows->66,ncols->2,indexers->[index],dc->[])                           \n",
      "/stooq/h/world/indices/prices                      frame_table  (typ->appendable_multi,nrows->88823,ncols->9,indexers->[index],dc->[date_time,ticker])  \n",
      "/stooq/h/world/indices/tickers                     frame_table  (typ->appendable,nrows->62,ncols->2,indexers->[index],dc->[])                           \n"
     ]
    }
   ],
   "source": [
    "df = pd.read_csv('data/STOCK_META_DATA.csv')\n",
    "\n",
    "with pd.HDFStore(DATA_STORE) as store:\n",
    "    store.put('sharadar/sep/stocks', df.set_index('ticker'))\n",
    "    print(store.info())\n",
    "    #     store.put('quandl/wiki/stocks', df)"
   ]
  },
  {
   "cell_type": "markdown",
   "metadata": {},
   "source": [
    "## Get Data"
   ]
  },
  {
   "cell_type": "code",
   "execution_count": 19,
   "metadata": {},
   "outputs": [],
   "source": [
    "sns.set_style('whitegrid')\n",
    "idx = pd.IndexSlice"
   ]
  },
  {
   "cell_type": "code",
   "execution_count": 20,
   "metadata": {},
   "outputs": [],
   "source": [
    "START = 2000\n",
    "END = 2024"
   ]
  },
  {
   "cell_type": "code",
   "execution_count": 21,
   "metadata": {},
   "outputs": [],
   "source": [
    "with pd.HDFStore(DATA_STORE) as store:\n",
    "    prices = (store['sharadar/sep/prices']\n",
    "              .loc[idx[str(START):str(END), :], 'adj_close']\n",
    "              .unstack('ticker'))\n",
    "    stocks = store['sharadar/sep/stocks'].loc[:, ['marketcap', 'ipoyear', 'sector']]    "
   ]
  },
  {
   "cell_type": "code",
   "execution_count": 22,
   "metadata": {},
   "outputs": [
    {
     "name": "stdout",
     "output_type": "stream",
     "text": [
      "<class 'pandas.core.frame.DataFrame'>\n",
      "DatetimeIndex: 2617 entries, 2014-01-02 to 2024-05-24\n",
      "Columns: 13263 entries, A to ZYXI\n",
      "dtypes: float64(13263)\n",
      "memory usage: 264.8 MB\n"
     ]
    }
   ],
   "source": [
    "prices.info()"
   ]
  },
  {
   "cell_type": "code",
   "execution_count": 23,
   "metadata": {},
   "outputs": [
    {
     "name": "stdout",
     "output_type": "stream",
     "text": [
      "<class 'pandas.core.frame.DataFrame'>\n",
      "Index: 5494 entries, BOW to EVO\n",
      "Data columns (total 3 columns):\n",
      " #   Column     Non-Null Count  Dtype  \n",
      "---  ------     --------------  -----  \n",
      " 0   marketcap  5494 non-null   float64\n",
      " 1   ipoyear    5494 non-null   float64\n",
      " 2   sector     5490 non-null   object \n",
      "dtypes: float64(2), object(1)\n",
      "memory usage: 171.7+ KB\n"
     ]
    }
   ],
   "source": [
    "stocks.info()"
   ]
  },
  {
   "cell_type": "markdown",
   "metadata": {},
   "source": [
    "### Keep data with stock info"
   ]
  },
  {
   "cell_type": "markdown",
   "metadata": {},
   "source": [
    "Remove `stocks` duplicates and align index names for later joining.\n"
   ]
  },
  {
   "cell_type": "code",
   "execution_count": 24,
   "metadata": {},
   "outputs": [],
   "source": [
    "stocks = stocks[~stocks.index.duplicated()]\n",
    "stocks.index.name = 'ticker'"
   ]
  },
  {
   "cell_type": "code",
   "execution_count": 25,
   "metadata": {},
   "outputs": [
    {
     "name": "stdout",
     "output_type": "stream",
     "text": [
      "<class 'pandas.core.frame.DataFrame'>\n",
      "Index: 5494 entries, BOW to EVO\n",
      "Data columns (total 3 columns):\n",
      " #   Column     Non-Null Count  Dtype  \n",
      "---  ------     --------------  -----  \n",
      " 0   marketcap  5494 non-null   float64\n",
      " 1   ipoyear    5494 non-null   float64\n",
      " 2   sector     5490 non-null   object \n",
      "dtypes: float64(2), object(1)\n",
      "memory usage: 300.7+ KB\n"
     ]
    }
   ],
   "source": [
    "stocks.info()"
   ]
  },
  {
   "cell_type": "code",
   "execution_count": 26,
   "metadata": {},
   "outputs": [],
   "source": [
    "shared = prices.columns.intersection(stocks.index)"
   ]
  },
  {
   "cell_type": "code",
   "execution_count": 27,
   "metadata": {},
   "outputs": [
    {
     "name": "stdout",
     "output_type": "stream",
     "text": [
      "<class 'pandas.core.frame.DataFrame'>\n",
      "Index: 5494 entries, A to ZYXI\n",
      "Data columns (total 3 columns):\n",
      " #   Column     Non-Null Count  Dtype  \n",
      "---  ------     --------------  -----  \n",
      " 0   marketcap  5494 non-null   float64\n",
      " 1   ipoyear    5494 non-null   float64\n",
      " 2   sector     5490 non-null   object \n",
      "dtypes: float64(2), object(1)\n",
      "memory usage: 171.7+ KB\n"
     ]
    }
   ],
   "source": [
    "stocks = stocks.loc[shared, :]\n",
    "stocks.info()"
   ]
  },
  {
   "cell_type": "code",
   "execution_count": 28,
   "metadata": {},
   "outputs": [
    {
     "name": "stdout",
     "output_type": "stream",
     "text": [
      "<class 'pandas.core.frame.DataFrame'>\n",
      "DatetimeIndex: 2617 entries, 2014-01-02 to 2024-05-24\n",
      "Columns: 5494 entries, A to ZYXI\n",
      "dtypes: float64(5494)\n",
      "memory usage: 109.7 MB\n"
     ]
    }
   ],
   "source": [
    "prices = prices.loc[:, shared]\n",
    "prices.info()"
   ]
  },
  {
   "cell_type": "code",
   "execution_count": 29,
   "metadata": {},
   "outputs": [
    {
     "data": {
      "text/html": [
       "<div>\n",
       "<style scoped>\n",
       "    .dataframe tbody tr th:only-of-type {\n",
       "        vertical-align: middle;\n",
       "    }\n",
       "\n",
       "    .dataframe tbody tr th {\n",
       "        vertical-align: top;\n",
       "    }\n",
       "\n",
       "    .dataframe thead th {\n",
       "        text-align: right;\n",
       "    }\n",
       "</style>\n",
       "<table border=\"1\" class=\"dataframe\">\n",
       "  <thead>\n",
       "    <tr style=\"text-align: right;\">\n",
       "      <th>ticker</th>\n",
       "      <th>A</th>\n",
       "      <th>AA</th>\n",
       "      <th>AACG</th>\n",
       "      <th>AACI</th>\n",
       "      <th>AACT</th>\n",
       "      <th>AADI</th>\n",
       "      <th>AAGR</th>\n",
       "      <th>AAL</th>\n",
       "      <th>AAMC</th>\n",
       "      <th>AAME</th>\n",
       "      <th>...</th>\n",
       "      <th>ZTS</th>\n",
       "      <th>ZUMZ</th>\n",
       "      <th>ZUO</th>\n",
       "      <th>ZURA</th>\n",
       "      <th>ZVIA</th>\n",
       "      <th>ZVRA</th>\n",
       "      <th>ZVSA</th>\n",
       "      <th>ZWS</th>\n",
       "      <th>ZYME</th>\n",
       "      <th>ZYXI</th>\n",
       "    </tr>\n",
       "    <tr>\n",
       "      <th>date</th>\n",
       "      <th></th>\n",
       "      <th></th>\n",
       "      <th></th>\n",
       "      <th></th>\n",
       "      <th></th>\n",
       "      <th></th>\n",
       "      <th></th>\n",
       "      <th></th>\n",
       "      <th></th>\n",
       "      <th></th>\n",
       "      <th></th>\n",
       "      <th></th>\n",
       "      <th></th>\n",
       "      <th></th>\n",
       "      <th></th>\n",
       "      <th></th>\n",
       "      <th></th>\n",
       "      <th></th>\n",
       "      <th></th>\n",
       "      <th></th>\n",
       "      <th></th>\n",
       "    </tr>\n",
       "  </thead>\n",
       "  <tbody>\n",
       "    <tr>\n",
       "      <th>2014-01-02</th>\n",
       "      <td>37.273</td>\n",
       "      <td>NaN</td>\n",
       "      <td>1.314</td>\n",
       "      <td>NaN</td>\n",
       "      <td>NaN</td>\n",
       "      <td>NaN</td>\n",
       "      <td>NaN</td>\n",
       "      <td>23.904</td>\n",
       "      <td>543.029</td>\n",
       "      <td>3.712</td>\n",
       "      <td>...</td>\n",
       "      <td>29.982</td>\n",
       "      <td>26.21</td>\n",
       "      <td>NaN</td>\n",
       "      <td>NaN</td>\n",
       "      <td>NaN</td>\n",
       "      <td>NaN</td>\n",
       "      <td>NaN</td>\n",
       "      <td>12.913</td>\n",
       "      <td>NaN</td>\n",
       "      <td>0.221</td>\n",
       "    </tr>\n",
       "    <tr>\n",
       "      <th>2014-01-03</th>\n",
       "      <td>37.743</td>\n",
       "      <td>NaN</td>\n",
       "      <td>1.310</td>\n",
       "      <td>NaN</td>\n",
       "      <td>NaN</td>\n",
       "      <td>NaN</td>\n",
       "      <td>NaN</td>\n",
       "      <td>25.016</td>\n",
       "      <td>543.935</td>\n",
       "      <td>3.795</td>\n",
       "      <td>...</td>\n",
       "      <td>29.695</td>\n",
       "      <td>26.15</td>\n",
       "      <td>NaN</td>\n",
       "      <td>NaN</td>\n",
       "      <td>NaN</td>\n",
       "      <td>NaN</td>\n",
       "      <td>NaN</td>\n",
       "      <td>13.070</td>\n",
       "      <td>NaN</td>\n",
       "      <td>0.221</td>\n",
       "    </tr>\n",
       "    <tr>\n",
       "      <th>2014-01-06</th>\n",
       "      <td>37.558</td>\n",
       "      <td>NaN</td>\n",
       "      <td>1.314</td>\n",
       "      <td>NaN</td>\n",
       "      <td>NaN</td>\n",
       "      <td>NaN</td>\n",
       "      <td>NaN</td>\n",
       "      <td>25.478</td>\n",
       "      <td>535.959</td>\n",
       "      <td>3.753</td>\n",
       "      <td>...</td>\n",
       "      <td>29.630</td>\n",
       "      <td>26.00</td>\n",
       "      <td>NaN</td>\n",
       "      <td>NaN</td>\n",
       "      <td>NaN</td>\n",
       "      <td>NaN</td>\n",
       "      <td>NaN</td>\n",
       "      <td>13.504</td>\n",
       "      <td>NaN</td>\n",
       "      <td>0.215</td>\n",
       "    </tr>\n",
       "    <tr>\n",
       "      <th>2014-01-07</th>\n",
       "      <td>38.095</td>\n",
       "      <td>NaN</td>\n",
       "      <td>1.337</td>\n",
       "      <td>NaN</td>\n",
       "      <td>NaN</td>\n",
       "      <td>NaN</td>\n",
       "      <td>NaN</td>\n",
       "      <td>25.360</td>\n",
       "      <td>548.529</td>\n",
       "      <td>3.767</td>\n",
       "      <td>...</td>\n",
       "      <td>29.741</td>\n",
       "      <td>26.60</td>\n",
       "      <td>NaN</td>\n",
       "      <td>NaN</td>\n",
       "      <td>NaN</td>\n",
       "      <td>NaN</td>\n",
       "      <td>NaN</td>\n",
       "      <td>13.566</td>\n",
       "      <td>NaN</td>\n",
       "      <td>0.228</td>\n",
       "    </tr>\n",
       "    <tr>\n",
       "      <th>2014-01-08</th>\n",
       "      <td>38.718</td>\n",
       "      <td>NaN</td>\n",
       "      <td>1.350</td>\n",
       "      <td>NaN</td>\n",
       "      <td>NaN</td>\n",
       "      <td>NaN</td>\n",
       "      <td>NaN</td>\n",
       "      <td>26.044</td>\n",
       "      <td>546.765</td>\n",
       "      <td>3.739</td>\n",
       "      <td>...</td>\n",
       "      <td>29.408</td>\n",
       "      <td>26.18</td>\n",
       "      <td>NaN</td>\n",
       "      <td>NaN</td>\n",
       "      <td>NaN</td>\n",
       "      <td>NaN</td>\n",
       "      <td>NaN</td>\n",
       "      <td>13.228</td>\n",
       "      <td>NaN</td>\n",
       "      <td>0.240</td>\n",
       "    </tr>\n",
       "  </tbody>\n",
       "</table>\n",
       "<p>5 rows × 5494 columns</p>\n",
       "</div>"
      ],
      "text/plain": [
       "ticker           A  AA   AACG  AACI  AACT  AADI  AAGR     AAL     AAMC   AAME  ...     ZTS   ZUMZ  ZUO  ZURA  ZVIA  ZVRA  ZVSA     ZWS  ZYME   ZYXI\n",
       "date                                                                           ...                                                                 \n",
       "2014-01-02  37.273 NaN  1.314   NaN   NaN   NaN   NaN  23.904  543.029  3.712  ...  29.982  26.21  NaN   NaN   NaN   NaN   NaN  12.913   NaN  0.221\n",
       "2014-01-03  37.743 NaN  1.310   NaN   NaN   NaN   NaN  25.016  543.935  3.795  ...  29.695  26.15  NaN   NaN   NaN   NaN   NaN  13.070   NaN  0.221\n",
       "2014-01-06  37.558 NaN  1.314   NaN   NaN   NaN   NaN  25.478  535.959  3.753  ...  29.630  26.00  NaN   NaN   NaN   NaN   NaN  13.504   NaN  0.215\n",
       "2014-01-07  38.095 NaN  1.337   NaN   NaN   NaN   NaN  25.360  548.529  3.767  ...  29.741  26.60  NaN   NaN   NaN   NaN   NaN  13.566   NaN  0.228\n",
       "2014-01-08  38.718 NaN  1.350   NaN   NaN   NaN   NaN  26.044  546.765  3.739  ...  29.408  26.18  NaN   NaN   NaN   NaN   NaN  13.228   NaN  0.240\n",
       "\n",
       "[5 rows x 5494 columns]"
      ]
     },
     "execution_count": 29,
     "metadata": {},
     "output_type": "execute_result"
    }
   ],
   "source": [
    "prices.head()"
   ]
  },
  {
   "cell_type": "code",
   "execution_count": 30,
   "metadata": {},
   "outputs": [],
   "source": [
    "assert prices.shape[1] == stocks.shape[0]"
   ]
  },
  {
   "cell_type": "code",
   "execution_count": 31,
   "metadata": {},
   "outputs": [],
   "source": [
    "monthly_prices = prices.resample('M').last()"
   ]
  },
  {
   "cell_type": "code",
   "execution_count": 32,
   "metadata": {},
   "outputs": [
    {
     "name": "stdout",
     "output_type": "stream",
     "text": [
      "<class 'pandas.core.frame.DataFrame'>\n",
      "DatetimeIndex: 125 entries, 2014-01-31 to 2024-05-31\n",
      "Freq: M\n",
      "Columns: 5494 entries, A to ZYXI\n",
      "dtypes: float64(5494)\n",
      "memory usage: 5.2 MB\n"
     ]
    }
   ],
   "source": [
    "monthly_prices.info()"
   ]
  },
  {
   "cell_type": "code",
   "execution_count": 33,
   "metadata": {},
   "outputs": [
    {
     "name": "stdout",
     "output_type": "stream",
     "text": [
      "<class 'pandas.core.frame.DataFrame'>\n",
      "MultiIndex: 426571 entries, ('A', Timestamp('2015-01-31 00:00:00')) to ('ZYXI', Timestamp('2024-05-31 00:00:00'))\n",
      "Data columns (total 6 columns):\n",
      " #   Column      Non-Null Count   Dtype  \n",
      "---  ------      --------------   -----  \n",
      " 0   return_1m   426571 non-null  float64\n",
      " 1   return_2m   426571 non-null  float64\n",
      " 2   return_3m   426571 non-null  float64\n",
      " 3   return_6m   426571 non-null  float64\n",
      " 4   return_9m   426571 non-null  float64\n",
      " 5   return_12m  426571 non-null  float64\n",
      "dtypes: float64(6)\n",
      "memory usage: 20.9+ MB\n"
     ]
    }
   ],
   "source": [
    "outlier_cutoff = 0.01\n",
    "data = pd.DataFrame()\n",
    "lags = [1, 2, 3, 6, 9, 12]\n",
    "for lag in lags:\n",
    "    data[f'return_{lag}m'] = (monthly_prices\n",
    "                           .pct_change(lag)\n",
    "                           .stack()\n",
    "                           .pipe(lambda x: x.clip(lower=x.quantile(outlier_cutoff),\n",
    "                                                  upper=x.quantile(1-outlier_cutoff)))\n",
    "                           .add(1)\n",
    "                           .pow(1/lag)\n",
    "                           .sub(1)\n",
    "                           )\n",
    "data = data.swaplevel().dropna()\n",
    "data.info()"
   ]
  },
  {
   "cell_type": "code",
   "execution_count": 34,
   "metadata": {},
   "outputs": [
    {
     "data": {
      "text/html": [
       "<div>\n",
       "<style scoped>\n",
       "    .dataframe tbody tr th:only-of-type {\n",
       "        vertical-align: middle;\n",
       "    }\n",
       "\n",
       "    .dataframe tbody tr th {\n",
       "        vertical-align: top;\n",
       "    }\n",
       "\n",
       "    .dataframe thead th {\n",
       "        text-align: right;\n",
       "    }\n",
       "</style>\n",
       "<table border=\"1\" class=\"dataframe\">\n",
       "  <thead>\n",
       "    <tr style=\"text-align: right;\">\n",
       "      <th></th>\n",
       "      <th></th>\n",
       "      <th>return_1m</th>\n",
       "      <th>return_2m</th>\n",
       "      <th>return_3m</th>\n",
       "      <th>return_6m</th>\n",
       "      <th>return_9m</th>\n",
       "      <th>return_12m</th>\n",
       "    </tr>\n",
       "    <tr>\n",
       "      <th>ticker</th>\n",
       "      <th>date</th>\n",
       "      <th></th>\n",
       "      <th></th>\n",
       "      <th></th>\n",
       "      <th></th>\n",
       "      <th></th>\n",
       "      <th></th>\n",
       "    </tr>\n",
       "  </thead>\n",
       "  <tbody>\n",
       "    <tr>\n",
       "      <th>A</th>\n",
       "      <th>2015-01-31</th>\n",
       "      <td>-0.075164</td>\n",
       "      <td>-0.058785</td>\n",
       "      <td>-0.017760</td>\n",
       "      <td>-0.010937</td>\n",
       "      <td>-0.002936</td>\n",
       "      <td>-0.008083</td>\n",
       "    </tr>\n",
       "    <tr>\n",
       "      <th>AACG</th>\n",
       "      <th>2015-01-31</th>\n",
       "      <td>0.133039</td>\n",
       "      <td>0.128523</td>\n",
       "      <td>0.072906</td>\n",
       "      <td>0.001398</td>\n",
       "      <td>0.030021</td>\n",
       "      <td>0.025139</td>\n",
       "    </tr>\n",
       "    <tr>\n",
       "      <th>AAL</th>\n",
       "      <th>2015-01-31</th>\n",
       "      <td>-0.084831</td>\n",
       "      <td>0.005650</td>\n",
       "      <td>0.058797</td>\n",
       "      <td>0.040157</td>\n",
       "      <td>0.038634</td>\n",
       "      <td>0.032644</td>\n",
       "    </tr>\n",
       "    <tr>\n",
       "      <th>AAMC</th>\n",
       "      <th>2015-01-31</th>\n",
       "      <td>-0.419274</td>\n",
       "      <td>-0.332901</td>\n",
       "      <td>-0.290481</td>\n",
       "      <td>-0.200581</td>\n",
       "      <td>-0.182232</td>\n",
       "      <td>-0.142195</td>\n",
       "    </tr>\n",
       "    <tr>\n",
       "      <th>AAME</th>\n",
       "      <th>2015-01-31</th>\n",
       "      <td>-0.010008</td>\n",
       "      <td>0.017894</td>\n",
       "      <td>0.013667</td>\n",
       "      <td>-0.003287</td>\n",
       "      <td>0.015226</td>\n",
       "      <td>0.001297</td>\n",
       "    </tr>\n",
       "  </tbody>\n",
       "</table>\n",
       "</div>"
      ],
      "text/plain": [
       "                   return_1m  return_2m  return_3m  return_6m  return_9m  return_12m\n",
       "ticker date                                                                         \n",
       "A      2015-01-31  -0.075164  -0.058785  -0.017760  -0.010937  -0.002936   -0.008083\n",
       "AACG   2015-01-31   0.133039   0.128523   0.072906   0.001398   0.030021    0.025139\n",
       "AAL    2015-01-31  -0.084831   0.005650   0.058797   0.040157   0.038634    0.032644\n",
       "AAMC   2015-01-31  -0.419274  -0.332901  -0.290481  -0.200581  -0.182232   -0.142195\n",
       "AAME   2015-01-31  -0.010008   0.017894   0.013667  -0.003287   0.015226    0.001297"
      ]
     },
     "execution_count": 34,
     "metadata": {},
     "output_type": "execute_result"
    }
   ],
   "source": [
    "data.head()"
   ]
  },
  {
   "cell_type": "code",
   "execution_count": 35,
   "metadata": {},
   "outputs": [
    {
     "name": "stdout",
     "output_type": "stream",
     "text": [
      "ticker\n",
      "A       113\n",
      "AA       79\n",
      "AACG    113\n",
      "AACI     22\n",
      "AACT      2\n",
      "       ... \n",
      "ZVRA     98\n",
      "ZVSA     18\n",
      "ZWS     113\n",
      "ZYME     74\n",
      "ZYXI    113\n",
      "Length: 5269, dtype: int64\n",
      "<class 'pandas.core.frame.DataFrame'>\n",
      "MultiIndex: 426556 entries, ('A', Timestamp('2015-01-31 00:00:00')) to ('ZYXI', Timestamp('2024-05-31 00:00:00'))\n",
      "Data columns (total 6 columns):\n",
      " #   Column      Non-Null Count   Dtype  \n",
      "---  ------      --------------   -----  \n",
      " 0   return_1m   426556 non-null  float64\n",
      " 1   return_2m   426556 non-null  float64\n",
      " 2   return_3m   426556 non-null  float64\n",
      " 3   return_6m   426556 non-null  float64\n",
      " 4   return_9m   426556 non-null  float64\n",
      " 5   return_12m  426556 non-null  float64\n",
      "dtypes: float64(6)\n",
      "memory usage: 20.9+ MB\n"
     ]
    }
   ],
   "source": [
    "min_obs = 1\n",
    "nobs = data.groupby(level='ticker').size()\n",
    "print(data.groupby(level='ticker').size())\n",
    "keep = nobs[nobs>min_obs].index\n",
    "\n",
    "data = data.loc[idx[keep,:], :]\n",
    "data.info()"
   ]
  },
  {
   "cell_type": "code",
   "execution_count": 36,
   "metadata": {},
   "outputs": [
    {
     "data": {
      "text/html": [
       "<div>\n",
       "<style scoped>\n",
       "    .dataframe tbody tr th:only-of-type {\n",
       "        vertical-align: middle;\n",
       "    }\n",
       "\n",
       "    .dataframe tbody tr th {\n",
       "        vertical-align: top;\n",
       "    }\n",
       "\n",
       "    .dataframe thead th {\n",
       "        text-align: right;\n",
       "    }\n",
       "</style>\n",
       "<table border=\"1\" class=\"dataframe\">\n",
       "  <thead>\n",
       "    <tr style=\"text-align: right;\">\n",
       "      <th></th>\n",
       "      <th>return_1m</th>\n",
       "      <th>return_2m</th>\n",
       "      <th>return_3m</th>\n",
       "      <th>return_6m</th>\n",
       "      <th>return_9m</th>\n",
       "      <th>return_12m</th>\n",
       "    </tr>\n",
       "  </thead>\n",
       "  <tbody>\n",
       "    <tr>\n",
       "      <th>count</th>\n",
       "      <td>426556.000000</td>\n",
       "      <td>426556.000000</td>\n",
       "      <td>426556.000000</td>\n",
       "      <td>426556.000000</td>\n",
       "      <td>426556.000000</td>\n",
       "      <td>426556.000000</td>\n",
       "    </tr>\n",
       "    <tr>\n",
       "      <th>mean</th>\n",
       "      <td>0.004428</td>\n",
       "      <td>-0.001275</td>\n",
       "      <td>-0.002974</td>\n",
       "      <td>-0.004818</td>\n",
       "      <td>-0.005798</td>\n",
       "      <td>-0.005890</td>\n",
       "    </tr>\n",
       "    <tr>\n",
       "      <th>std</th>\n",
       "      <td>0.151198</td>\n",
       "      <td>0.107020</td>\n",
       "      <td>0.087918</td>\n",
       "      <td>0.064248</td>\n",
       "      <td>0.054628</td>\n",
       "      <td>0.048587</td>\n",
       "    </tr>\n",
       "    <tr>\n",
       "      <th>min</th>\n",
       "      <td>-0.419274</td>\n",
       "      <td>-0.332901</td>\n",
       "      <td>-0.290481</td>\n",
       "      <td>-0.227340</td>\n",
       "      <td>-0.198156</td>\n",
       "      <td>-0.179183</td>\n",
       "    </tr>\n",
       "    <tr>\n",
       "      <th>25%</th>\n",
       "      <td>-0.070637</td>\n",
       "      <td>-0.051477</td>\n",
       "      <td>-0.042767</td>\n",
       "      <td>-0.032134</td>\n",
       "      <td>-0.028084</td>\n",
       "      <td>-0.024717</td>\n",
       "    </tr>\n",
       "    <tr>\n",
       "      <th>50%</th>\n",
       "      <td>0.000706</td>\n",
       "      <td>0.000946</td>\n",
       "      <td>0.001774</td>\n",
       "      <td>0.001447</td>\n",
       "      <td>0.000993</td>\n",
       "      <td>0.000838</td>\n",
       "    </tr>\n",
       "    <tr>\n",
       "      <th>75%</th>\n",
       "      <td>0.068927</td>\n",
       "      <td>0.048232</td>\n",
       "      <td>0.040011</td>\n",
       "      <td>0.028254</td>\n",
       "      <td>0.022997</td>\n",
       "      <td>0.020259</td>\n",
       "    </tr>\n",
       "    <tr>\n",
       "      <th>max</th>\n",
       "      <td>0.592265</td>\n",
       "      <td>0.368847</td>\n",
       "      <td>0.282090</td>\n",
       "      <td>0.179591</td>\n",
       "      <td>0.140659</td>\n",
       "      <td>0.118662</td>\n",
       "    </tr>\n",
       "  </tbody>\n",
       "</table>\n",
       "</div>"
      ],
      "text/plain": [
       "           return_1m      return_2m      return_3m      return_6m      return_9m     return_12m\n",
       "count  426556.000000  426556.000000  426556.000000  426556.000000  426556.000000  426556.000000\n",
       "mean        0.004428      -0.001275      -0.002974      -0.004818      -0.005798      -0.005890\n",
       "std         0.151198       0.107020       0.087918       0.064248       0.054628       0.048587\n",
       "min        -0.419274      -0.332901      -0.290481      -0.227340      -0.198156      -0.179183\n",
       "25%        -0.070637      -0.051477      -0.042767      -0.032134      -0.028084      -0.024717\n",
       "50%         0.000706       0.000946       0.001774       0.001447       0.000993       0.000838\n",
       "75%         0.068927       0.048232       0.040011       0.028254       0.022997       0.020259\n",
       "max         0.592265       0.368847       0.282090       0.179591       0.140659       0.118662"
      ]
     },
     "execution_count": 36,
     "metadata": {},
     "output_type": "execute_result"
    }
   ],
   "source": [
    "data.describe()"
   ]
  },
  {
   "cell_type": "code",
   "execution_count": 37,
   "metadata": {},
   "outputs": [
    {
     "data": {
      "image/png": "[encoded data removed]",
      "text/plain": [
       "<Figure size 1000x1000 with 4 Axes>"
      ]
     },
     "metadata": {},
     "output_type": "display_data"
    }
   ],
   "source": [
    "sns.clustermap(data.corr('spearman'), annot=True, center=0, cmap='Blues');"
   ]
  },
  {
   "cell_type": "code",
   "execution_count": 38,
   "metadata": {},
   "outputs": [
    {
     "data": {
      "text/plain": [
       "5254"
      ]
     },
     "execution_count": 38,
     "metadata": {},
     "output_type": "execute_result"
    }
   ],
   "source": [
    "data.index.get_level_values('ticker').nunique()"
   ]
  },
  {
   "cell_type": "markdown",
   "metadata": {},
   "source": [
    "## Rolling Factor Betas"
   ]
  },
  {
   "cell_type": "code",
   "execution_count": 39,
   "metadata": {},
   "outputs": [
    {
     "name": "stdout",
     "output_type": "stream",
     "text": [
      "<class 'pandas.core.frame.DataFrame'>\n",
      "DatetimeIndex: 291 entries, 2000-01-31 to 2024-03-31\n",
      "Freq: M\n",
      "Data columns (total 5 columns):\n",
      " #   Column  Non-Null Count  Dtype  \n",
      "---  ------  --------------  -----  \n",
      " 0   Mkt-RF  291 non-null    float64\n",
      " 1   SMB     291 non-null    float64\n",
      " 2   HML     291 non-null    float64\n",
      " 3   RMW     291 non-null    float64\n",
      " 4   CMA     291 non-null    float64\n",
      "dtypes: float64(5)\n",
      "memory usage: 13.6 KB\n"
     ]
    },
    {
     "data": {
      "text/html": [
       "<div>\n",
       "<style scoped>\n",
       "    .dataframe tbody tr th:only-of-type {\n",
       "        vertical-align: middle;\n",
       "    }\n",
       "\n",
       "    .dataframe tbody tr th {\n",
       "        vertical-align: top;\n",
       "    }\n",
       "\n",
       "    .dataframe thead th {\n",
       "        text-align: right;\n",
       "    }\n",
       "</style>\n",
       "<table border=\"1\" class=\"dataframe\">\n",
       "  <thead>\n",
       "    <tr style=\"text-align: right;\">\n",
       "      <th></th>\n",
       "      <th>Mkt-RF</th>\n",
       "      <th>SMB</th>\n",
       "      <th>HML</th>\n",
       "      <th>RMW</th>\n",
       "      <th>CMA</th>\n",
       "    </tr>\n",
       "    <tr>\n",
       "      <th>date</th>\n",
       "      <th></th>\n",
       "      <th></th>\n",
       "      <th></th>\n",
       "      <th></th>\n",
       "      <th></th>\n",
       "    </tr>\n",
       "  </thead>\n",
       "  <tbody>\n",
       "    <tr>\n",
       "      <th>2000-01-31</th>\n",
       "      <td>-0.0474</td>\n",
       "      <td>0.0442</td>\n",
       "      <td>-0.0188</td>\n",
       "      <td>-0.0629</td>\n",
       "      <td>0.0472</td>\n",
       "    </tr>\n",
       "    <tr>\n",
       "      <th>2000-02-29</th>\n",
       "      <td>0.0245</td>\n",
       "      <td>0.1828</td>\n",
       "      <td>-0.0959</td>\n",
       "      <td>-0.1865</td>\n",
       "      <td>-0.0048</td>\n",
       "    </tr>\n",
       "    <tr>\n",
       "      <th>2000-03-31</th>\n",
       "      <td>0.0520</td>\n",
       "      <td>-0.1532</td>\n",
       "      <td>0.0813</td>\n",
       "      <td>0.1179</td>\n",
       "      <td>-0.0159</td>\n",
       "    </tr>\n",
       "    <tr>\n",
       "      <th>2000-04-30</th>\n",
       "      <td>-0.0640</td>\n",
       "      <td>-0.0501</td>\n",
       "      <td>0.0726</td>\n",
       "      <td>0.0766</td>\n",
       "      <td>0.0565</td>\n",
       "    </tr>\n",
       "    <tr>\n",
       "      <th>2000-05-31</th>\n",
       "      <td>-0.0442</td>\n",
       "      <td>-0.0381</td>\n",
       "      <td>0.0475</td>\n",
       "      <td>0.0413</td>\n",
       "      <td>0.0137</td>\n",
       "    </tr>\n",
       "  </tbody>\n",
       "</table>\n",
       "</div>"
      ],
      "text/plain": [
       "            Mkt-RF     SMB     HML     RMW     CMA\n",
       "date                                              \n",
       "2000-01-31 -0.0474  0.0442 -0.0188 -0.0629  0.0472\n",
       "2000-02-29  0.0245  0.1828 -0.0959 -0.1865 -0.0048\n",
       "2000-03-31  0.0520 -0.1532  0.0813  0.1179 -0.0159\n",
       "2000-04-30 -0.0640 -0.0501  0.0726  0.0766  0.0565\n",
       "2000-05-31 -0.0442 -0.0381  0.0475  0.0413  0.0137"
      ]
     },
     "execution_count": 39,
     "metadata": {},
     "output_type": "execute_result"
    }
   ],
   "source": [
    "factors = ['Mkt-RF', 'SMB', 'HML', 'RMW', 'CMA']\n",
    "factor_data = web.DataReader('F-F_Research_Data_5_Factors_2x3', 'famafrench', start='2000')[0].drop('RF', axis=1)\n",
    "factor_data.index = factor_data.index.to_timestamp()\n",
    "factor_data = factor_data.resample('M').last().div(100)\n",
    "factor_data.index.name = 'date'\n",
    "factor_data.info()\n",
    "factor_data.head()"
   ]
  },
  {
   "cell_type": "code",
   "execution_count": 40,
   "metadata": {},
   "outputs": [
    {
     "name": "stdout",
     "output_type": "stream",
     "text": [
      "<class 'pandas.core.frame.DataFrame'>\n",
      "MultiIndex: 416048 entries, ('A', Timestamp('2015-01-31 00:00:00')) to ('ZYXI', Timestamp('2024-03-31 00:00:00'))\n",
      "Data columns (total 6 columns):\n",
      " #   Column     Non-Null Count   Dtype  \n",
      "---  ------     --------------   -----  \n",
      " 0   Mkt-RF     416048 non-null  float64\n",
      " 1   SMB        416048 non-null  float64\n",
      " 2   HML        416048 non-null  float64\n",
      " 3   RMW        416048 non-null  float64\n",
      " 4   CMA        416048 non-null  float64\n",
      " 5   return_1m  416048 non-null  float64\n",
      "dtypes: float64(6)\n",
      "memory usage: 20.8+ MB\n"
     ]
    },
    {
     "data": {
      "text/html": [
       "<div>\n",
       "<style scoped>\n",
       "    .dataframe tbody tr th:only-of-type {\n",
       "        vertical-align: middle;\n",
       "    }\n",
       "\n",
       "    .dataframe tbody tr th {\n",
       "        vertical-align: top;\n",
       "    }\n",
       "\n",
       "    .dataframe thead th {\n",
       "        text-align: right;\n",
       "    }\n",
       "</style>\n",
       "<table border=\"1\" class=\"dataframe\">\n",
       "  <thead>\n",
       "    <tr style=\"text-align: right;\">\n",
       "      <th></th>\n",
       "      <th></th>\n",
       "      <th>Mkt-RF</th>\n",
       "      <th>SMB</th>\n",
       "      <th>HML</th>\n",
       "      <th>RMW</th>\n",
       "      <th>CMA</th>\n",
       "      <th>return_1m</th>\n",
       "    </tr>\n",
       "    <tr>\n",
       "      <th>ticker</th>\n",
       "      <th>date</th>\n",
       "      <th></th>\n",
       "      <th></th>\n",
       "      <th></th>\n",
       "      <th></th>\n",
       "      <th></th>\n",
       "      <th></th>\n",
       "    </tr>\n",
       "  </thead>\n",
       "  <tbody>\n",
       "    <tr>\n",
       "      <th rowspan=\"5\" valign=\"top\">A</th>\n",
       "      <th>2015-01-31</th>\n",
       "      <td>-0.0311</td>\n",
       "      <td>-0.0092</td>\n",
       "      <td>-0.0358</td>\n",
       "      <td>0.0161</td>\n",
       "      <td>-0.0165</td>\n",
       "      <td>-0.075164</td>\n",
       "    </tr>\n",
       "    <tr>\n",
       "      <th>2015-02-28</th>\n",
       "      <td>0.0613</td>\n",
       "      <td>0.0032</td>\n",
       "      <td>-0.0186</td>\n",
       "      <td>-0.0112</td>\n",
       "      <td>-0.0182</td>\n",
       "      <td>0.117578</td>\n",
       "    </tr>\n",
       "    <tr>\n",
       "      <th>2015-03-31</th>\n",
       "      <td>-0.0112</td>\n",
       "      <td>0.0307</td>\n",
       "      <td>-0.0037</td>\n",
       "      <td>0.0009</td>\n",
       "      <td>-0.0052</td>\n",
       "      <td>-0.013250</td>\n",
       "    </tr>\n",
       "    <tr>\n",
       "      <th>2015-04-30</th>\n",
       "      <td>0.0059</td>\n",
       "      <td>-0.0309</td>\n",
       "      <td>0.0182</td>\n",
       "      <td>0.0006</td>\n",
       "      <td>-0.0061</td>\n",
       "      <td>-0.004329</td>\n",
       "    </tr>\n",
       "    <tr>\n",
       "      <th>2015-05-31</th>\n",
       "      <td>0.0136</td>\n",
       "      <td>0.0083</td>\n",
       "      <td>-0.0114</td>\n",
       "      <td>-0.0179</td>\n",
       "      <td>-0.0074</td>\n",
       "      <td>-0.004348</td>\n",
       "    </tr>\n",
       "  </tbody>\n",
       "</table>\n",
       "</div>"
      ],
      "text/plain": [
       "                   Mkt-RF     SMB     HML     RMW     CMA  return_1m\n",
       "ticker date                                                         \n",
       "A      2015-01-31 -0.0311 -0.0092 -0.0358  0.0161 -0.0165  -0.075164\n",
       "       2015-02-28  0.0613  0.0032 -0.0186 -0.0112 -0.0182   0.117578\n",
       "       2015-03-31 -0.0112  0.0307 -0.0037  0.0009 -0.0052  -0.013250\n",
       "       2015-04-30  0.0059 -0.0309  0.0182  0.0006 -0.0061  -0.004329\n",
       "       2015-05-31  0.0136  0.0083 -0.0114 -0.0179 -0.0074  -0.004348"
      ]
     },
     "execution_count": 40,
     "metadata": {},
     "output_type": "execute_result"
    }
   ],
   "source": [
    "factor_data = factor_data.join(data['return_1m']).sort_index()\n",
    "factor_data.info()\n",
    "factor_data.head()"
   ]
  },
  {
   "cell_type": "code",
   "execution_count": 41,
   "metadata": {},
   "outputs": [],
   "source": [
    "import statsmodels.api as sm\n",
    "from statsmodels.regression.rolling import RollingOLS\n",
    "\n",
    "# T = 24\n",
    "# betas = (factor_data.groupby(level='ticker',\n",
    "#                              group_keys=False)\n",
    "#          .apply(lambda x: RollingOLS(endog=x.return_1m,\n",
    "#                                      exog=sm.add_constant(x.drop('return_1m', axis=1)),\n",
    "#                                      window=min(T, x.shape[0]-1))\n",
    "#                 .fit(params_only=True)\n",
    "#                 .params\n",
    "#                 .drop('const', axis=1)))\n",
    "\n",
    "T = 24\n",
    "\n",
    "def compute_rolling_ols(group):\n",
    "    n_obs = group.shape[0]\n",
    "    n_regressors = group.shape[1]  # Including the intercept term\n",
    "    window_size = min(T, n_obs - 1)\n",
    "    \n",
    "    if n_obs > n_regressors and window_size > n_regressors:\n",
    "        return (RollingOLS(endog=group.return_1m,\n",
    "                           exog=sm.add_constant(group.drop('return_1m', axis=1)),\n",
    "                           window=window_size)\n",
    "                .fit(params_only=True)\n",
    "                .params\n",
    "                .drop('const', axis=1))\n",
    "    else:\n",
    "        return pd.DataFrame()\n",
    "\n",
    "betas = (factor_data.groupby(level='ticker', group_keys=False)\n",
    "         .apply(compute_rolling_ols))"
   ]
  },
  {
   "cell_type": "code",
   "execution_count": 42,
   "metadata": {},
   "outputs": [
    {
     "data": {
      "text/html": [
       "<div>\n",
       "<style scoped>\n",
       "    .dataframe tbody tr th:only-of-type {\n",
       "        vertical-align: middle;\n",
       "    }\n",
       "\n",
       "    .dataframe tbody tr th {\n",
       "        vertical-align: top;\n",
       "    }\n",
       "\n",
       "    .dataframe thead th {\n",
       "        text-align: right;\n",
       "    }\n",
       "</style>\n",
       "<table border=\"1\" class=\"dataframe\">\n",
       "  <thead>\n",
       "    <tr style=\"text-align: right;\">\n",
       "      <th></th>\n",
       "      <th>Mkt-RF</th>\n",
       "      <th>SMB</th>\n",
       "      <th>HML</th>\n",
       "      <th>RMW</th>\n",
       "      <th>CMA</th>\n",
       "      <th>total</th>\n",
       "    </tr>\n",
       "  </thead>\n",
       "  <tbody>\n",
       "    <tr>\n",
       "      <th>count</th>\n",
       "      <td>302502.000000</td>\n",
       "      <td>302502.000000</td>\n",
       "      <td>302502.000000</td>\n",
       "      <td>302502.000000</td>\n",
       "      <td>302502.000000</td>\n",
       "      <td>415675.000000</td>\n",
       "    </tr>\n",
       "    <tr>\n",
       "      <th>mean</th>\n",
       "      <td>0.984931</td>\n",
       "      <td>0.672626</td>\n",
       "      <td>0.047159</td>\n",
       "      <td>-0.190403</td>\n",
       "      <td>0.137967</td>\n",
       "      <td>1.202424</td>\n",
       "    </tr>\n",
       "    <tr>\n",
       "      <th>std</th>\n",
       "      <td>0.870991</td>\n",
       "      <td>1.403991</td>\n",
       "      <td>1.259592</td>\n",
       "      <td>2.018970</td>\n",
       "      <td>1.953724</td>\n",
       "      <td>2.739278</td>\n",
       "    </tr>\n",
       "    <tr>\n",
       "      <th>min</th>\n",
       "      <td>-15.275598</td>\n",
       "      <td>-15.440554</td>\n",
       "      <td>-21.973236</td>\n",
       "      <td>-40.703929</td>\n",
       "      <td>-35.368657</td>\n",
       "      <td>-57.358439</td>\n",
       "    </tr>\n",
       "    <tr>\n",
       "      <th>25%</th>\n",
       "      <td>0.502289</td>\n",
       "      <td>-0.120157</td>\n",
       "      <td>-0.563679</td>\n",
       "      <td>-1.044368</td>\n",
       "      <td>-0.874774</td>\n",
       "      <td>0.000000</td>\n",
       "    </tr>\n",
       "    <tr>\n",
       "      <th>50%</th>\n",
       "      <td>0.938291</td>\n",
       "      <td>0.564107</td>\n",
       "      <td>0.120181</td>\n",
       "      <td>-0.035689</td>\n",
       "      <td>0.028750</td>\n",
       "      <td>0.562694</td>\n",
       "    </tr>\n",
       "    <tr>\n",
       "      <th>75%</th>\n",
       "      <td>1.412266</td>\n",
       "      <td>1.356839</td>\n",
       "      <td>0.763530</td>\n",
       "      <td>0.753273</td>\n",
       "      <td>1.006663</td>\n",
       "      <td>2.440155</td>\n",
       "    </tr>\n",
       "    <tr>\n",
       "      <th>max</th>\n",
       "      <td>13.856299</td>\n",
       "      <td>12.749752</td>\n",
       "      <td>21.315993</td>\n",
       "      <td>33.296048</td>\n",
       "      <td>64.859718</td>\n",
       "      <td>56.299793</td>\n",
       "    </tr>\n",
       "  </tbody>\n",
       "</table>\n",
       "</div>"
      ],
      "text/plain": [
       "              Mkt-RF            SMB            HML            RMW            CMA          total\n",
       "count  302502.000000  302502.000000  302502.000000  302502.000000  302502.000000  415675.000000\n",
       "mean        0.984931       0.672626       0.047159      -0.190403       0.137967       1.202424\n",
       "std         0.870991       1.403991       1.259592       2.018970       1.953724       2.739278\n",
       "min       -15.275598     -15.440554     -21.973236     -40.703929     -35.368657     -57.358439\n",
       "25%         0.502289      -0.120157      -0.563679      -1.044368      -0.874774       0.000000\n",
       "50%         0.938291       0.564107       0.120181      -0.035689       0.028750       0.562694\n",
       "75%         1.412266       1.356839       0.763530       0.753273       1.006663       2.440155\n",
       "max        13.856299      12.749752      21.315993      33.296048      64.859718      56.299793"
      ]
     },
     "execution_count": 42,
     "metadata": {},
     "output_type": "execute_result"
    }
   ],
   "source": [
    "betas.describe().join(betas.sum(1).describe().to_frame('total'))"
   ]
  },
  {
   "cell_type": "code",
   "execution_count": 43,
   "metadata": {},
   "outputs": [
    {
     "data": {
      "image/png": "[encoded data removed]",
      "text/plain": [
       "<Figure size 1000x1000 with 4 Axes>"
      ]
     },
     "metadata": {},
     "output_type": "display_data"
    }
   ],
   "source": [
    "cmap = sns.diverging_palette(10, 220, as_cmap=True)\n",
    "sns.clustermap(betas.corr(), annot=True, cmap=cmap, center=0);"
   ]
  },
  {
   "cell_type": "code",
   "execution_count": 44,
   "metadata": {},
   "outputs": [
    {
     "name": "stdout",
     "output_type": "stream",
     "text": [
      "<class 'pandas.core.frame.DataFrame'>\n",
      "MultiIndex: 426556 entries, ('A', Timestamp('2015-01-31 00:00:00')) to ('ZYXI', Timestamp('2024-05-31 00:00:00'))\n",
      "Data columns (total 11 columns):\n",
      " #   Column      Non-Null Count   Dtype  \n",
      "---  ------      --------------   -----  \n",
      " 0   return_1m   426556 non-null  float64\n",
      " 1   return_2m   426556 non-null  float64\n",
      " 2   return_3m   426556 non-null  float64\n",
      " 3   return_6m   426556 non-null  float64\n",
      " 4   return_9m   426556 non-null  float64\n",
      " 5   return_12m  426556 non-null  float64\n",
      " 6   Mkt-RF      297371 non-null  float64\n",
      " 7   SMB         297371 non-null  float64\n",
      " 8   HML         297371 non-null  float64\n",
      " 9   RMW         297371 non-null  float64\n",
      " 10  CMA         297371 non-null  float64\n",
      "dtypes: float64(11)\n",
      "memory usage: 53.3+ MB\n"
     ]
    }
   ],
   "source": [
    "data = (data\n",
    "        .join(betas\n",
    "              .groupby(level='ticker')\n",
    "              .shift()))\n",
    "data.info()"
   ]
  },
  {
   "cell_type": "markdown",
   "metadata": {},
   "source": [
    "### Impute mean for missing factor betas"
   ]
  },
  {
   "cell_type": "code",
   "execution_count": 45,
   "metadata": {},
   "outputs": [
    {
     "name": "stdout",
     "output_type": "stream",
     "text": [
      "<class 'pandas.core.frame.DataFrame'>\n",
      "MultiIndex: 426556 entries, ('A', Timestamp('2015-01-31 00:00:00')) to ('ZYXI', Timestamp('2024-05-31 00:00:00'))\n",
      "Data columns (total 11 columns):\n",
      " #   Column      Non-Null Count   Dtype  \n",
      "---  ------      --------------   -----  \n",
      " 0   return_1m   426556 non-null  float64\n",
      " 1   return_2m   426556 non-null  float64\n",
      " 2   return_3m   426556 non-null  float64\n",
      " 3   return_6m   426556 non-null  float64\n",
      " 4   return_9m   426556 non-null  float64\n",
      " 5   return_12m  426556 non-null  float64\n",
      " 6   Mkt-RF      425937 non-null  float64\n",
      " 7   SMB         425937 non-null  float64\n",
      " 8   HML         425937 non-null  float64\n",
      " 9   RMW         425937 non-null  float64\n",
      " 10  CMA         425937 non-null  float64\n",
      "dtypes: float64(11)\n",
      "memory usage: 53.3+ MB\n"
     ]
    }
   ],
   "source": [
    "# data.loc[:, factors] = data.groupby('ticker')[factors].apply(lambda x: x.fillna(x.mean()))\n",
    "# data.info()\n",
    "\n",
    "# Define the list of factors\n",
    "factors = ['Mkt-RF', 'SMB', 'HML', 'RMW', 'CMA']\n",
    "\n",
    "# Fill missing values with the mean within each group\n",
    "data[factors] = data.groupby('ticker')[factors].transform(lambda x: x.fillna(x.mean()))\n",
    "\n",
    "# Display the DataFrame info\n",
    "data.info()"
   ]
  },
  {
   "cell_type": "markdown",
   "metadata": {},
   "source": [
    "## Momentum factors"
   ]
  },
  {
   "cell_type": "markdown",
   "metadata": {},
   "source": [
    "We can use these results to compute momentum factors based on the difference between returns over longer periods and the most recent monthly return, as well as for the difference between 3 and 12 month returns as follows:"
   ]
  },
  {
   "cell_type": "code",
   "execution_count": 46,
   "metadata": {},
   "outputs": [],
   "source": [
    "for lag in [2,3,6,9,12]:\n",
    "    data[f'momentum_{lag}'] = data[f'return_{lag}m'].sub(data.return_1m)\n",
    "data[f'momentum_3_12'] = data[f'return_12m'].sub(data.return_3m)"
   ]
  },
  {
   "cell_type": "markdown",
   "metadata": {},
   "source": [
    "## Date Indicators"
   ]
  },
  {
   "cell_type": "code",
   "execution_count": 47,
   "metadata": {},
   "outputs": [],
   "source": [
    "dates = data.index.get_level_values('date')\n",
    "data['year'] = dates.year\n",
    "data['month'] = dates.month"
   ]
  },
  {
   "cell_type": "markdown",
   "metadata": {},
   "source": [
    "## Lagged returns"
   ]
  },
  {
   "cell_type": "code",
   "execution_count": 48,
   "metadata": {},
   "outputs": [
    {
     "name": "stdout",
     "output_type": "stream",
     "text": [
      "<class 'pandas.core.frame.DataFrame'>\n",
      "MultiIndex: 426556 entries, ('A', Timestamp('2015-01-31 00:00:00')) to ('ZYXI', Timestamp('2024-05-31 00:00:00'))\n",
      "Data columns (total 25 columns):\n",
      " #   Column         Non-Null Count   Dtype  \n",
      "---  ------         --------------   -----  \n",
      " 0   return_1m      426556 non-null  float64\n",
      " 1   return_2m      426556 non-null  float64\n",
      " 2   return_3m      426556 non-null  float64\n",
      " 3   return_6m      426556 non-null  float64\n",
      " 4   return_9m      426556 non-null  float64\n",
      " 5   return_12m     426556 non-null  float64\n",
      " 6   Mkt-RF         425937 non-null  float64\n",
      " 7   SMB            425937 non-null  float64\n",
      " 8   HML            425937 non-null  float64\n",
      " 9   RMW            425937 non-null  float64\n",
      " 10  CMA            425937 non-null  float64\n",
      " 11  momentum_2     426556 non-null  float64\n",
      " 12  momentum_3     426556 non-null  float64\n",
      " 13  momentum_6     426556 non-null  float64\n",
      " 14  momentum_9     426556 non-null  float64\n",
      " 15  momentum_12    426556 non-null  float64\n",
      " 16  momentum_3_12  426556 non-null  float64\n",
      " 17  year           426556 non-null  int32  \n",
      " 18  month          426556 non-null  int32  \n",
      " 19  return_1m_t-1  421302 non-null  float64\n",
      " 20  return_1m_t-2  416048 non-null  float64\n",
      " 21  return_1m_t-3  410813 non-null  float64\n",
      " 22  return_1m_t-4  405603 non-null  float64\n",
      " 23  return_1m_t-5  400411 non-null  float64\n",
      " 24  return_1m_t-6  395232 non-null  float64\n",
      "dtypes: float64(23), int32(2)\n",
      "memory usage: 95.6+ MB\n"
     ]
    }
   ],
   "source": [
    "for t in range(1, 7):\n",
    "    data[f'return_1m_t-{t}'] = data.groupby(level='ticker').return_1m.shift(t)\n",
    "data.info()"
   ]
  },
  {
   "cell_type": "markdown",
   "metadata": {},
   "source": [
    "## Target: Holding Period Returns"
   ]
  },
  {
   "cell_type": "code",
   "execution_count": 49,
   "metadata": {},
   "outputs": [],
   "source": [
    "for t in [1,2,3,6,12]:\n",
    "    data[f'target_{t}m'] = data.groupby(level='ticker')[f'return_{t}m'].shift(-t)"
   ]
  },
  {
   "cell_type": "code",
   "execution_count": 50,
   "metadata": {},
   "outputs": [
    {
     "data": {
      "text/html": [
       "<div>\n",
       "<style scoped>\n",
       "    .dataframe tbody tr th:only-of-type {\n",
       "        vertical-align: middle;\n",
       "    }\n",
       "\n",
       "    .dataframe tbody tr th {\n",
       "        vertical-align: top;\n",
       "    }\n",
       "\n",
       "    .dataframe thead th {\n",
       "        text-align: right;\n",
       "    }\n",
       "</style>\n",
       "<table border=\"1\" class=\"dataframe\">\n",
       "  <thead>\n",
       "    <tr style=\"text-align: right;\">\n",
       "      <th></th>\n",
       "      <th></th>\n",
       "      <th>target_1m</th>\n",
       "      <th>target_2m</th>\n",
       "      <th>target_3m</th>\n",
       "      <th>return_1m</th>\n",
       "      <th>return_2m</th>\n",
       "      <th>return_3m</th>\n",
       "      <th>return_1m_t-1</th>\n",
       "      <th>return_1m_t-2</th>\n",
       "      <th>return_1m_t-3</th>\n",
       "    </tr>\n",
       "    <tr>\n",
       "      <th>ticker</th>\n",
       "      <th>date</th>\n",
       "      <th></th>\n",
       "      <th></th>\n",
       "      <th></th>\n",
       "      <th></th>\n",
       "      <th></th>\n",
       "      <th></th>\n",
       "      <th></th>\n",
       "      <th></th>\n",
       "      <th></th>\n",
       "    </tr>\n",
       "  </thead>\n",
       "  <tbody>\n",
       "    <tr>\n",
       "      <th rowspan=\"10\" valign=\"top\">A</th>\n",
       "      <th>2015-04-30</th>\n",
       "      <td>-0.004348</td>\n",
       "      <td>-0.033105</td>\n",
       "      <td>-0.002567</td>\n",
       "      <td>-0.004329</td>\n",
       "      <td>-0.008800</td>\n",
       "      <td>0.031653</td>\n",
       "      <td>-0.013250</td>\n",
       "      <td>0.117578</td>\n",
       "      <td>-0.075164</td>\n",
       "    </tr>\n",
       "    <tr>\n",
       "      <th>2015-05-31</th>\n",
       "      <td>-0.061032</td>\n",
       "      <td>-0.001675</td>\n",
       "      <td>-0.040370</td>\n",
       "      <td>-0.004348</td>\n",
       "      <td>-0.004339</td>\n",
       "      <td>-0.007318</td>\n",
       "      <td>-0.004329</td>\n",
       "      <td>-0.013250</td>\n",
       "      <td>0.117578</td>\n",
       "    </tr>\n",
       "    <tr>\n",
       "      <th>2015-06-30</th>\n",
       "      <td>0.061435</td>\n",
       "      <td>-0.029868</td>\n",
       "      <td>-0.037229</td>\n",
       "      <td>-0.061032</td>\n",
       "      <td>-0.033105</td>\n",
       "      <td>-0.023607</td>\n",
       "      <td>-0.004348</td>\n",
       "      <td>-0.004329</td>\n",
       "      <td>-0.013250</td>\n",
       "    </tr>\n",
       "    <tr>\n",
       "      <th>2015-07-31</th>\n",
       "      <td>-0.113318</td>\n",
       "      <td>-0.083066</td>\n",
       "      <td>-0.025730</td>\n",
       "      <td>0.061435</td>\n",
       "      <td>-0.001675</td>\n",
       "      <td>-0.002567</td>\n",
       "      <td>-0.061032</td>\n",
       "      <td>-0.004348</td>\n",
       "      <td>-0.004329</td>\n",
       "    </tr>\n",
       "    <tr>\n",
       "      <th>2015-08-31</th>\n",
       "      <td>-0.051783</td>\n",
       "      <td>0.021257</td>\n",
       "      <td>0.049240</td>\n",
       "      <td>-0.113318</td>\n",
       "      <td>-0.029868</td>\n",
       "      <td>-0.040370</td>\n",
       "      <td>0.061435</td>\n",
       "      <td>-0.061032</td>\n",
       "      <td>-0.004348</td>\n",
       "    </tr>\n",
       "    <tr>\n",
       "      <th>2015-09-30</th>\n",
       "      <td>0.099922</td>\n",
       "      <td>0.103718</td>\n",
       "      <td>0.068895</td>\n",
       "      <td>-0.051783</td>\n",
       "      <td>-0.083066</td>\n",
       "      <td>-0.037229</td>\n",
       "      <td>-0.113318</td>\n",
       "      <td>0.061435</td>\n",
       "      <td>-0.061032</td>\n",
       "    </tr>\n",
       "    <tr>\n",
       "      <th>2015-10-31</th>\n",
       "      <td>0.107527</td>\n",
       "      <td>0.053711</td>\n",
       "      <td>-0.000057</td>\n",
       "      <td>0.099922</td>\n",
       "      <td>0.021257</td>\n",
       "      <td>-0.025730</td>\n",
       "      <td>-0.051783</td>\n",
       "      <td>-0.113318</td>\n",
       "      <td>0.061435</td>\n",
       "    </tr>\n",
       "    <tr>\n",
       "      <th>2015-11-30</th>\n",
       "      <td>0.002510</td>\n",
       "      <td>-0.049864</td>\n",
       "      <td>-0.036101</td>\n",
       "      <td>0.107527</td>\n",
       "      <td>0.103718</td>\n",
       "      <td>0.049240</td>\n",
       "      <td>0.099922</td>\n",
       "      <td>-0.051783</td>\n",
       "      <td>-0.113318</td>\n",
       "    </tr>\n",
       "    <tr>\n",
       "      <th>2015-12-31</th>\n",
       "      <td>-0.099502</td>\n",
       "      <td>-0.054845</td>\n",
       "      <td>-0.015881</td>\n",
       "      <td>0.002510</td>\n",
       "      <td>0.053711</td>\n",
       "      <td>0.068895</td>\n",
       "      <td>0.107527</td>\n",
       "      <td>0.099922</td>\n",
       "      <td>-0.051783</td>\n",
       "    </tr>\n",
       "    <tr>\n",
       "      <th>2016-01-31</th>\n",
       "      <td>-0.007974</td>\n",
       "      <td>0.028798</td>\n",
       "      <td>0.029127</td>\n",
       "      <td>-0.099502</td>\n",
       "      <td>-0.049864</td>\n",
       "      <td>-0.000057</td>\n",
       "      <td>0.002510</td>\n",
       "      <td>0.107527</td>\n",
       "      <td>0.099922</td>\n",
       "    </tr>\n",
       "  </tbody>\n",
       "</table>\n",
       "</div>"
      ],
      "text/plain": [
       "                   target_1m  target_2m  target_3m  return_1m  return_2m  return_3m  return_1m_t-1  return_1m_t-2  return_1m_t-3\n",
       "ticker date                                                                                                                     \n",
       "A      2015-04-30  -0.004348  -0.033105  -0.002567  -0.004329  -0.008800   0.031653      -0.013250       0.117578      -0.075164\n",
       "       2015-05-31  -0.061032  -0.001675  -0.040370  -0.004348  -0.004339  -0.007318      -0.004329      -0.013250       0.117578\n",
       "       2015-06-30   0.061435  -0.029868  -0.037229  -0.061032  -0.033105  -0.023607      -0.004348      -0.004329      -0.013250\n",
       "       2015-07-31  -0.113318  -0.083066  -0.025730   0.061435  -0.001675  -0.002567      -0.061032      -0.004348      -0.004329\n",
       "       2015-08-31  -0.051783   0.021257   0.049240  -0.113318  -0.029868  -0.040370       0.061435      -0.061032      -0.004348\n",
       "       2015-09-30   0.099922   0.103718   0.068895  -0.051783  -0.083066  -0.037229      -0.113318       0.061435      -0.061032\n",
       "       2015-10-31   0.107527   0.053711  -0.000057   0.099922   0.021257  -0.025730      -0.051783      -0.113318       0.061435\n",
       "       2015-11-30   0.002510  -0.049864  -0.036101   0.107527   0.103718   0.049240       0.099922      -0.051783      -0.113318\n",
       "       2015-12-31  -0.099502  -0.054845  -0.015881   0.002510   0.053711   0.068895       0.107527       0.099922      -0.051783\n",
       "       2016-01-31  -0.007974   0.028798   0.029127  -0.099502  -0.049864  -0.000057       0.002510       0.107527       0.099922"
      ]
     },
     "execution_count": 50,
     "metadata": {},
     "output_type": "execute_result"
    }
   ],
   "source": [
    "cols = ['target_1m',\n",
    "        'target_2m',\n",
    "        'target_3m', \n",
    "        'return_1m',\n",
    "        'return_2m',\n",
    "        'return_3m',\n",
    "        'return_1m_t-1',\n",
    "        'return_1m_t-2',\n",
    "        'return_1m_t-3']\n",
    "\n",
    "data[cols].dropna().sort_index().head(10)"
   ]
  },
  {
   "cell_type": "code",
   "execution_count": 51,
   "metadata": {},
   "outputs": [
    {
     "name": "stdout",
     "output_type": "stream",
     "text": [
      "<class 'pandas.core.frame.DataFrame'>\n",
      "MultiIndex: 426556 entries, ('A', Timestamp('2015-01-31 00:00:00')) to ('ZYXI', Timestamp('2024-05-31 00:00:00'))\n",
      "Data columns (total 30 columns):\n",
      " #   Column         Non-Null Count   Dtype  \n",
      "---  ------         --------------   -----  \n",
      " 0   return_1m      426556 non-null  float64\n",
      " 1   return_2m      426556 non-null  float64\n",
      " 2   return_3m      426556 non-null  float64\n",
      " 3   return_6m      426556 non-null  float64\n",
      " 4   return_9m      426556 non-null  float64\n",
      " 5   return_12m     426556 non-null  float64\n",
      " 6   Mkt-RF         425937 non-null  float64\n",
      " 7   SMB            425937 non-null  float64\n",
      " 8   HML            425937 non-null  float64\n",
      " 9   RMW            425937 non-null  float64\n",
      " 10  CMA            425937 non-null  float64\n",
      " 11  momentum_2     426556 non-null  float64\n",
      " 12  momentum_3     426556 non-null  float64\n",
      " 13  momentum_6     426556 non-null  float64\n",
      " 14  momentum_9     426556 non-null  float64\n",
      " 15  momentum_12    426556 non-null  float64\n",
      " 16  momentum_3_12  426556 non-null  float64\n",
      " 17  year           426556 non-null  int32  \n",
      " 18  month          426556 non-null  int32  \n",
      " 19  return_1m_t-1  421302 non-null  float64\n",
      " 20  return_1m_t-2  416048 non-null  float64\n",
      " 21  return_1m_t-3  410813 non-null  float64\n",
      " 22  return_1m_t-4  405603 non-null  float64\n",
      " 23  return_1m_t-5  400411 non-null  float64\n",
      " 24  return_1m_t-6  395232 non-null  float64\n",
      " 25  target_1m      421302 non-null  float64\n",
      " 26  target_2m      416048 non-null  float64\n",
      " 27  target_3m      410813 non-null  float64\n",
      " 28  target_6m      395232 non-null  float64\n",
      " 29  target_12m     364422 non-null  float64\n",
      "dtypes: float64(28), int32(2)\n",
      "memory usage: 111.9+ MB\n"
     ]
    }
   ],
   "source": [
    "data.info()"
   ]
  },
  {
   "cell_type": "markdown",
   "metadata": {},
   "source": [
    "## Create age proxy"
   ]
  },
  {
   "cell_type": "markdown",
   "metadata": {},
   "source": [
    "We use quintiles of IPO year as a proxy for company age."
   ]
  },
  {
   "cell_type": "code",
   "execution_count": 52,
   "metadata": {},
   "outputs": [],
   "source": [
    "data = (data\n",
    "        .join(pd.qcut(stocks.ipoyear, q=5, labels=list(range(1, 6)))\n",
    "              .astype(float)\n",
    "              .fillna(0)\n",
    "              .astype(int)\n",
    "              .to_frame('age')))\n",
    "data.age = data.age.fillna(-1)"
   ]
  },
  {
   "cell_type": "markdown",
   "metadata": {},
   "source": [
    "## Create dynamic size proxy"
   ]
  },
  {
   "cell_type": "code",
   "execution_count": 53,
   "metadata": {},
   "outputs": [
    {
     "name": "stdout",
     "output_type": "stream",
     "text": [
      "<class 'pandas.core.frame.DataFrame'>\n",
      "Index: 5494 entries, A to ZYXI\n",
      "Data columns (total 3 columns):\n",
      " #   Column     Non-Null Count  Dtype  \n",
      "---  ------     --------------  -----  \n",
      " 0   marketcap  5494 non-null   float64\n",
      " 1   ipoyear    5494 non-null   float64\n",
      " 2   sector     5490 non-null   object \n",
      "dtypes: float64(2), object(1)\n",
      "memory usage: 300.7+ KB\n"
     ]
    }
   ],
   "source": [
    "stocks.info()"
   ]
  },
  {
   "cell_type": "code",
   "execution_count": 54,
   "metadata": {},
   "outputs": [
    {
     "name": "stdout",
     "output_type": "stream",
     "text": [
      "<class 'pandas.core.frame.DataFrame'>\n",
      "DatetimeIndex: 113 entries, 2024-05-31 to 2015-01-31\n",
      "Columns: 5254 entries, A to ZYXI\n",
      "dtypes: float64(5254)\n",
      "memory usage: 4.5 MB\n"
     ]
    }
   ],
   "source": [
    "size_factor = (monthly_prices\n",
    "               .loc[data.index.get_level_values('date').unique(),\n",
    "                    data.index.get_level_values('ticker').unique()]\n",
    "               .sort_index(ascending=False)\n",
    "               .pct_change()\n",
    "               .fillna(0)\n",
    "               .add(1)\n",
    "               .cumprod())\n",
    "size_factor.info()"
   ]
  },
  {
   "cell_type": "code",
   "execution_count": 55,
   "metadata": {},
   "outputs": [],
   "source": [
    "msize = (size_factor\n",
    "         .mul(stocks\n",
    "              .loc[size_factor.columns, 'marketcap'])).dropna(axis=1, how='all')"
   ]
  },
  {
   "cell_type": "markdown",
   "metadata": {},
   "source": [
    "### Create Size indicator as deciles per period"
   ]
  },
  {
   "cell_type": "code",
   "execution_count": 56,
   "metadata": {},
   "outputs": [],
   "source": [
    "data['msize'] = (msize\n",
    "                 .apply(lambda x: pd.qcut(x, q=10, labels=list(range(1, 11)))\n",
    "                        .astype(int), axis=1)\n",
    "                 .stack()\n",
    "                 .swaplevel())\n",
    "data.msize = data.msize.fillna(-1)"
   ]
  },
  {
   "cell_type": "markdown",
   "metadata": {},
   "source": [
    "## Combine data"
   ]
  },
  {
   "cell_type": "code",
   "execution_count": 57,
   "metadata": {},
   "outputs": [],
   "source": [
    "data = data.join(stocks[['sector']])\n",
    "data.sector = data.sector.fillna('Unknown')"
   ]
  },
  {
   "cell_type": "markdown",
   "metadata": {},
   "source": [
    "## Store data"
   ]
  },
  {
   "cell_type": "code",
   "execution_count": 58,
   "metadata": {},
   "outputs": [
    {
     "name": "stdout",
     "output_type": "stream",
     "text": [
      "<class 'pandas.core.frame.DataFrame'>\n",
      "MultiIndex: 426556 entries, ('A', Timestamp('2015-01-31 00:00:00')) to ('ZYXI', Timestamp('2024-05-31 00:00:00'))\n",
      "Data columns (total 33 columns):\n",
      " #   Column         Non-Null Count   Dtype  \n",
      "---  ------         --------------   -----  \n",
      " 0   return_1m      426556 non-null  float64\n",
      " 1   return_2m      426556 non-null  float64\n",
      " 2   return_3m      426556 non-null  float64\n",
      " 3   return_6m      426556 non-null  float64\n",
      " 4   return_9m      426556 non-null  float64\n",
      " 5   return_12m     426556 non-null  float64\n",
      " 6   Mkt-RF         425937 non-null  float64\n",
      " 7   SMB            425937 non-null  float64\n",
      " 8   HML            425937 non-null  float64\n",
      " 9   RMW            425937 non-null  float64\n",
      " 10  CMA            425937 non-null  float64\n",
      " 11  momentum_2     426556 non-null  float64\n",
      " 12  momentum_3     426556 non-null  float64\n",
      " 13  momentum_6     426556 non-null  float64\n",
      " 14  momentum_9     426556 non-null  float64\n",
      " 15  momentum_12    426556 non-null  float64\n",
      " 16  momentum_3_12  426556 non-null  float64\n",
      " 17  year           426556 non-null  int32  \n",
      " 18  month          426556 non-null  int32  \n",
      " 19  return_1m_t-1  421302 non-null  float64\n",
      " 20  return_1m_t-2  416048 non-null  float64\n",
      " 21  return_1m_t-3  410813 non-null  float64\n",
      " 22  return_1m_t-4  405603 non-null  float64\n",
      " 23  return_1m_t-5  400411 non-null  float64\n",
      " 24  return_1m_t-6  395232 non-null  float64\n",
      " 25  target_1m      421302 non-null  float64\n",
      " 26  target_2m      416048 non-null  float64\n",
      " 27  target_3m      410813 non-null  float64\n",
      " 28  target_6m      395232 non-null  float64\n",
      " 29  target_12m     364422 non-null  float64\n",
      " 30  age            426556 non-null  int64  \n",
      " 31  msize          426556 non-null  int64  \n",
      " 32  sector         426556 non-null  object \n",
      "dtypes: float64(28), int32(2), int64(2), object(1)\n",
      "memory usage: 121.7+ MB\n"
     ]
    }
   ],
   "source": [
    "data.info()"
   ]
  },
  {
   "cell_type": "code",
   "execution_count": 59,
   "metadata": {},
   "outputs": [
    {
     "name": "stdout",
     "output_type": "stream",
     "text": [
      "<class 'pandas.io.pytables.HDFStore'>\n",
      "File path: data/assets.h5\n",
      "/engineered_features                               frame        (shape->[421302,33])                                                                    \n",
      "/sharadar/sep/prices                               frame        (shape->[17246022,12])                                                                  \n",
      "/sharadar/sep/stocks                               frame        (shape->[5494,6])                                                                       \n",
      "/stooq/5/us/nasdaq/etfs/prices                     frame_table  (typ->appendable_multi,nrows->457963,ncols->9,indexers->[index],dc->[date_time,ticker]) \n",
      "/stooq/5/us/nasdaq/etfs/tickers                    frame_table  (typ->appendable,nrows->357,ncols->2,indexers->[index],dc->[])                          \n",
      "/stooq/5/us/nasdaq/stocks/prices                   frame_table  (typ->appendable_multi,nrows->6317799,ncols->9,indexers->[index],dc->[date_time,ticker])\n",
      "/stooq/5/us/nasdaq/stocks/tickers                  frame_table  (typ->appendable,nrows->4543,ncols->2,indexers->[index],dc->[])                         \n",
      "/stooq/5/us/nyse/etfs/prices                       frame_table  (typ->appendable_multi,nrows->2866524,ncols->9,indexers->[index],dc->[date_time,ticker])\n",
      "/stooq/5/us/nyse/etfs/tickers                      frame_table  (typ->appendable,nrows->2882,ncols->2,indexers->[index],dc->[])                         \n",
      "/stooq/5/us/nyse/stocks/prices                     frame_table  (typ->appendable_multi,nrows->5769871,ncols->9,indexers->[index],dc->[date_time,ticker])\n",
      "/stooq/5/us/nyse/stocks/tickers                    frame_table  (typ->appendable,nrows->3035,ncols->2,indexers->[index],dc->[])                         \n",
      "/stooq/5/us/nysemkt/stocks/prices                  frame_table  (typ->appendable_multi,nrows->416500,ncols->9,indexers->[index],dc->[date_time,ticker]) \n",
      "/stooq/5/us/nysemkt/stocks/tickers                 frame_table  (typ->appendable,nrows->353,ncols->2,indexers->[index],dc->[])                          \n",
      "/stooq/5/world/bonds/prices                        frame_table  (typ->appendable_multi,nrows->450509,ncols->9,indexers->[index],dc->[date_time,ticker]) \n",
      "/stooq/5/world/bonds/tickers                       frame_table  (typ->appendable,nrows->278,ncols->2,indexers->[index],dc->[])                          \n",
      "/stooq/5/world/cryptocurrencies/prices             frame_table  (typ->appendable_multi,nrows->3592929,ncols->7,indexers->[index],dc->[date_time,ticker])\n",
      "/stooq/5/world/cryptocurrencies/tickers            frame_table  (typ->appendable,nrows->266,ncols->2,indexers->[index],dc->[])                          \n",
      "/stooq/5/world/currencies/prices                   frame_table  (typ->appendable_multi,nrows->666748,ncols->7,indexers->[index],dc->[date_time,ticker]) \n",
      "/stooq/5/world/currencies/tickers                  frame_table  (typ->appendable,nrows->66,ncols->2,indexers->[index],dc->[])                           \n",
      "/stooq/5/world/indices/prices                      frame_table  (typ->appendable_multi,nrows->160033,ncols->9,indexers->[index],dc->[date_time,ticker]) \n",
      "/stooq/5/world/indices/tickers                     frame_table  (typ->appendable,nrows->62,ncols->2,indexers->[index],dc->[])                           \n",
      "/stooq/d/jp/tse/stocks/prices                      frame_table  (typ->appendable_multi,nrows->13353920,ncols->7,indexers->[index],dc->[date,ticker])    \n",
      "/stooq/d/jp/tse/stocks/tickers                     frame_table  (typ->appendable,nrows->3899,ncols->2,indexers->[index],dc->[])                         \n",
      "/stooq/d/us/nasdaq/etfs/prices                     frame_table  (typ->appendable_multi,nrows->912894,ncols->7,indexers->[index],dc->[date,ticker])      \n",
      "/stooq/d/us/nasdaq/etfs/tickers                    frame_table  (typ->appendable,nrows->357,ncols->2,indexers->[index],dc->[])                          \n",
      "/stooq/d/us/nasdaq/stocks/prices                   frame_table  (typ->appendable_multi,nrows->8460597,ncols->7,indexers->[index],dc->[date,ticker])     \n",
      "/stooq/d/us/nasdaq/stocks/tickers                  frame_table  (typ->appendable,nrows->4543,ncols->2,indexers->[index],dc->[])                         \n",
      "/stooq/d/us/nyse/etfs/prices                       frame_table  (typ->appendable_multi,nrows->4985287,ncols->7,indexers->[index],dc->[date,ticker])     \n",
      "/stooq/d/us/nyse/etfs/tickers                      frame_table  (typ->appendable,nrows->2882,ncols->2,indexers->[index],dc->[])                         \n",
      "/stooq/d/us/nyse/stocks/prices                     frame_table  (typ->appendable_multi,nrows->8911694,ncols->7,indexers->[index],dc->[date,ticker])     \n",
      "/stooq/d/us/nyse/stocks/tickers                    frame_table  (typ->appendable,nrows->3035,ncols->2,indexers->[index],dc->[])                         \n",
      "/stooq/d/us/nysemkt/stocks/prices                  frame_table  (typ->appendable_multi,nrows->859462,ncols->7,indexers->[index],dc->[date,ticker])      \n",
      "/stooq/d/us/nysemkt/stocks/tickers                 frame_table  (typ->appendable,nrows->353,ncols->2,indexers->[index],dc->[])                          \n",
      "/stooq/d/world/bonds/prices                        frame_table  (typ->appendable_multi,nrows->1006952,ncols->7,indexers->[index],dc->[date,ticker])     \n",
      "/stooq/d/world/bonds/tickers                       frame_table  (typ->appendable,nrows->278,ncols->2,indexers->[index],dc->[])                          \n",
      "/stooq/d/world/cryptocurrencies/prices             frame_table  (typ->appendable_multi,nrows->333815,ncols->7,indexers->[index],dc->[date,ticker])      \n",
      "/stooq/d/world/cryptocurrencies/tickers            frame_table  (typ->appendable,nrows->266,ncols->2,indexers->[index],dc->[])                          \n",
      "/stooq/d/world/currencies/prices                   frame_table  (typ->appendable_multi,nrows->414733,ncols->7,indexers->[index],dc->[date,ticker])      \n",
      "/stooq/d/world/currencies/tickers                  frame_table  (typ->appendable,nrows->66,ncols->2,indexers->[index],dc->[])                           \n",
      "/stooq/d/world/indices/prices                      frame_table  (typ->appendable_multi,nrows->363611,ncols->7,indexers->[index],dc->[date,ticker])      \n",
      "/stooq/d/world/indices/tickers                     frame_table  (typ->appendable,nrows->62,ncols->2,indexers->[index],dc->[])                           \n",
      "/stooq/d/world/money/market/prices                 frame_table  (typ->appendable_multi,nrows->155561,ncols->7,indexers->[index],dc->[date,ticker])      \n",
      "/stooq/d/world/money/market/tickers                frame_table  (typ->appendable,nrows->33,ncols->2,indexers->[index],dc->[])                           \n",
      "/stooq/h/us/nasdaq/etfs/prices                     frame_table  (typ->appendable_multi,nrows->417259,ncols->9,indexers->[index],dc->[date_time,ticker]) \n",
      "/stooq/h/us/nasdaq/etfs/tickers                    frame_table  (typ->appendable,nrows->357,ncols->2,indexers->[index],dc->[])                          \n",
      "/stooq/h/us/nasdaq/stocks/prices                   frame_table  (typ->appendable_multi,nrows->4837704,ncols->9,indexers->[index],dc->[date_time,ticker])\n",
      "/stooq/h/us/nasdaq/stocks/tickers                  frame_table  (typ->appendable,nrows->4543,ncols->2,indexers->[index],dc->[])                         \n",
      "/stooq/h/us/nyse/etfs/prices                       frame_table  (typ->appendable_multi,nrows->2699812,ncols->9,indexers->[index],dc->[date_time,ticker])\n",
      "/stooq/h/us/nyse/etfs/tickers                      frame_table  (typ->appendable,nrows->2882,ncols->2,indexers->[index],dc->[])                         \n",
      "/stooq/h/us/nyse/stocks/prices                     frame_table  (typ->appendable_multi,nrows->3825132,ncols->9,indexers->[index],dc->[date_time,ticker])\n",
      "/stooq/h/us/nyse/stocks/tickers                    frame_table  (typ->appendable,nrows->3035,ncols->2,indexers->[index],dc->[])                         \n",
      "/stooq/h/us/nysemkt/stocks/prices                  frame_table  (typ->appendable_multi,nrows->365635,ncols->9,indexers->[index],dc->[date_time,ticker]) \n",
      "/stooq/h/us/nysemkt/stocks/tickers                 frame_table  (typ->appendable,nrows->353,ncols->2,indexers->[index],dc->[])                          \n",
      "/stooq/h/world/bonds/prices                        frame_table  (typ->appendable_multi,nrows->181388,ncols->9,indexers->[index],dc->[date_time,ticker]) \n",
      "/stooq/h/world/bonds/tickers                       frame_table  (typ->appendable,nrows->278,ncols->2,indexers->[index],dc->[])                          \n",
      "/stooq/h/world/cryptocurrencies/prices             frame_table  (typ->appendable_multi,nrows->1884246,ncols->7,indexers->[index],dc->[date_time,ticker])\n",
      "/stooq/h/world/cryptocurrencies/tickers            frame_table  (typ->appendable,nrows->266,ncols->2,indexers->[index],dc->[])                          \n",
      "/stooq/h/world/currencies/prices                   frame_table  (typ->appendable_multi,nrows->330271,ncols->7,indexers->[index],dc->[date_time,ticker]) \n",
      "/stooq/h/world/currencies/tickers                  frame_table  (typ->appendable,nrows->66,ncols->2,indexers->[index],dc->[])                           \n",
      "/stooq/h/world/indices/prices                      frame_table  (typ->appendable_multi,nrows->88823,ncols->9,indexers->[index],dc->[date_time,ticker])  \n",
      "/stooq/h/world/indices/tickers                     frame_table  (typ->appendable,nrows->62,ncols->2,indexers->[index],dc->[])                           \n"
     ]
    }
   ],
   "source": [
    "import pandas as pd\n",
    "from datetime import datetime\n",
    "import numpy as np\n",
    "\n",
    "# Ensure the necessary functions are imported and used correctly\n",
    "idx = pd.IndexSlice\n",
    "\n",
    "with pd.HDFStore(DATA_STORE) as store:\n",
    "    store.put('engineered_features', data.sort_index().loc[idx[:, :datetime(2024, 5, 17)], :])\n",
    "    print(store.info())"
   ]
  }
 ],
 "metadata": {
  "kernelspec": {
   "display_name": "Python 3 (ipykernel)",
   "language": "python",
   "name": "python3"
  }
 },
 "nbformat": 4,
 "nbformat_minor": 2
}
